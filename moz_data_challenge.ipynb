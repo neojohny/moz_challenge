{
 "cells": [
  {
   "cell_type": "markdown",
   "metadata": {},
   "source": [
    "### This presents my solution to Moz data challenge"
   ]
  },
  {
   "cell_type": "markdown",
   "metadata": {},
   "source": [
    "#### import libraries"
   ]
  },
  {
   "cell_type": "code",
   "execution_count": 1,
   "metadata": {},
   "outputs": [],
   "source": [
    "%matplotlib inline\n",
    "\n",
    "import os\n",
    "\n",
    "import numpy as np\n",
    "import pandas as pd\n",
    "\n",
    "import matplotlib.pyplot as plt\n"
   ]
  },
  {
   "cell_type": "markdown",
   "metadata": {},
   "source": [
    "#### import data"
   ]
  },
  {
   "cell_type": "code",
   "execution_count": 31,
   "metadata": {},
   "outputs": [],
   "source": [
    "test_path = 's3://mozbi-sr-data-science/data/moz_customer_data_test.csv'\n",
    "train_path = 's3://mozbi-sr-data-science/data/moz_customer_data_train.csv'"
   ]
  },
  {
   "cell_type": "code",
   "execution_count": 101,
   "metadata": {},
   "outputs": [],
   "source": [
    "train_ori = pd.read_csv(test_path,sep='|')\n",
    "test_ori = pd.read_csv(train_path,sep='|')"
   ]
  },
  {
   "cell_type": "code",
   "execution_count": 102,
   "metadata": {},
   "outputs": [],
   "source": [
    "train = train_ori.copy()\n",
    "test = test_ori.copy()"
   ]
  },
  {
   "cell_type": "code",
   "execution_count": 33,
   "metadata": {},
   "outputs": [
    {
     "data": {
      "text/html": [
       "<div>\n",
       "<style scoped>\n",
       "    .dataframe tbody tr th:only-of-type {\n",
       "        vertical-align: middle;\n",
       "    }\n",
       "\n",
       "    .dataframe tbody tr th {\n",
       "        vertical-align: top;\n",
       "    }\n",
       "\n",
       "    .dataframe thead th {\n",
       "        text-align: right;\n",
       "    }\n",
       "</style>\n",
       "<table border=\"1\" class=\"dataframe\">\n",
       "  <thead>\n",
       "    <tr style=\"text-align: right;\">\n",
       "      <th></th>\n",
       "      <th>id</th>\n",
       "      <th>industry</th>\n",
       "      <th>geography</th>\n",
       "      <th>most_common_browser</th>\n",
       "      <th>session_time_prior_month_seconds</th>\n",
       "      <th>prior_month_paid</th>\n",
       "    </tr>\n",
       "  </thead>\n",
       "  <tbody>\n",
       "    <tr>\n",
       "      <td>0</td>\n",
       "      <td>8721560330</td>\n",
       "      <td>health care</td>\n",
       "      <td>America</td>\n",
       "      <td>Safari</td>\n",
       "      <td>405</td>\n",
       "      <td>94.086123</td>\n",
       "    </tr>\n",
       "    <tr>\n",
       "      <td>1</td>\n",
       "      <td>5265684450</td>\n",
       "      <td>unk</td>\n",
       "      <td>England</td>\n",
       "      <td>IE</td>\n",
       "      <td>4460</td>\n",
       "      <td>44.434942</td>\n",
       "    </tr>\n",
       "    <tr>\n",
       "      <td>2</td>\n",
       "      <td>7023768415</td>\n",
       "      <td>Marketing Agency</td>\n",
       "      <td>Esp</td>\n",
       "      <td>Firefox</td>\n",
       "      <td>289</td>\n",
       "      <td>53.311472</td>\n",
       "    </tr>\n",
       "    <tr>\n",
       "      <td>3</td>\n",
       "      <td>7733403428</td>\n",
       "      <td>NaN</td>\n",
       "      <td>America</td>\n",
       "      <td>Firefox</td>\n",
       "      <td>4242</td>\n",
       "      <td>98.500425</td>\n",
       "    </tr>\n",
       "    <tr>\n",
       "      <td>4</td>\n",
       "      <td>9147925075</td>\n",
       "      <td>NaN</td>\n",
       "      <td>USA</td>\n",
       "      <td>Safari</td>\n",
       "      <td>431</td>\n",
       "      <td>76.246123</td>\n",
       "    </tr>\n",
       "  </tbody>\n",
       "</table>\n",
       "</div>"
      ],
      "text/plain": [
       "           id          industry geography most_common_browser  \\\n",
       "0  8721560330       health care   America              Safari   \n",
       "1  5265684450               unk   England                  IE   \n",
       "2  7023768415  Marketing Agency       Esp             Firefox   \n",
       "3  7733403428               NaN   America             Firefox   \n",
       "4  9147925075               NaN       USA              Safari   \n",
       "\n",
       "   session_time_prior_month_seconds  prior_month_paid  \n",
       "0                               405         94.086123  \n",
       "1                              4460         44.434942  \n",
       "2                               289         53.311472  \n",
       "3                              4242         98.500425  \n",
       "4                               431         76.246123  "
      ]
     },
     "execution_count": 33,
     "metadata": {},
     "output_type": "execute_result"
    }
   ],
   "source": [
    "train.head()"
   ]
  },
  {
   "cell_type": "code",
   "execution_count": 15,
   "metadata": {},
   "outputs": [
    {
     "data": {
      "text/plain": [
       "(12000, 6)"
      ]
     },
     "execution_count": 15,
     "metadata": {},
     "output_type": "execute_result"
    }
   ],
   "source": [
    "train.shape"
   ]
  },
  {
   "cell_type": "code",
   "execution_count": 16,
   "metadata": {},
   "outputs": [
    {
     "data": {
      "text/plain": [
       "(48000, 6)"
      ]
     },
     "execution_count": 16,
     "metadata": {},
     "output_type": "execute_result"
    }
   ],
   "source": [
    "test.shape"
   ]
  },
  {
   "cell_type": "markdown",
   "metadata": {},
   "source": [
    "#### data has high quality, only one columns has NA values"
   ]
  },
  {
   "cell_type": "code",
   "execution_count": 22,
   "metadata": {},
   "outputs": [
    {
     "data": {
      "text/plain": [
       "id                                     0\n",
       "industry                            1713\n",
       "geography                              0\n",
       "most_common_browser                    0\n",
       "session_time_prior_month_seconds       0\n",
       "prior_month_paid                       0\n",
       "dtype: int64"
      ]
     },
     "execution_count": 22,
     "metadata": {},
     "output_type": "execute_result"
    }
   ],
   "source": [
    "train.isna().sum()"
   ]
  },
  {
   "cell_type": "markdown",
   "metadata": {},
   "source": [
    "#### further check shows that the industy already has a unknown category, I will use it to impute the NA. <br> The 'unk' category seem to be same as 'unknown', i will look into this further"
   ]
  },
  {
   "cell_type": "code",
   "execution_count": 18,
   "metadata": {
    "scrolled": false
   },
   "outputs": [
    {
     "data": {
      "text/plain": [
       "Marketing Agency    1556\n",
       "health care         1537\n",
       "software            1533\n",
       "mktg agency         1524\n",
       "healthcare          1481\n",
       "marketing agency    1420\n",
       "unknown              623\n",
       "unk                  613\n",
       "Name: industry, dtype: int64"
      ]
     },
     "execution_count": 18,
     "metadata": {},
     "output_type": "execute_result"
    }
   ],
   "source": [
    "train.industry.value_counts()"
   ]
  },
  {
   "cell_type": "markdown",
   "metadata": {},
   "source": [
    "#### looking into geography data"
   ]
  },
  {
   "cell_type": "code",
   "execution_count": 81,
   "metadata": {},
   "outputs": [
    {
     "data": {
      "text/plain": [
       "USA               2174\n",
       "Canada            1288\n",
       "CA                1251\n",
       "United States     1096\n",
       "America           1073\n",
       "US                1003\n",
       "UK                 529\n",
       "India              483\n",
       "Pakistan           472\n",
       "Spain              470\n",
       "Esp                460\n",
       "France             448\n",
       "Greece             437\n",
       "United Kingdom     286\n",
       "England            272\n",
       "GB                 258\n",
       "Name: geography, dtype: int64"
      ]
     },
     "execution_count": 81,
     "metadata": {},
     "output_type": "execute_result"
    }
   ],
   "source": [
    "train.geography.value_counts()"
   ]
  },
  {
   "cell_type": "markdown",
   "metadata": {},
   "source": [
    "### I will make some assumptions about the countries\n",
    "#### there are different names for one country, i need to combine them. i'll leave america out as it might refer to the continent, this is just assumption <br> other UK and USA should be combined<br> I will assume CA means Canada here, might be able to confirm with distributions or more data"
   ]
  },
  {
   "cell_type": "code",
   "execution_count": 88,
   "metadata": {},
   "outputs": [],
   "source": [
    "country_dic = {'United States':'US','CA':'Canada','USA':'US','Esp':'Spain','United Kingdom':'UK','GB':'UK','England':'UK'}\n"
   ]
  },
  {
   "cell_type": "code",
   "execution_count": 181,
   "metadata": {},
   "outputs": [
    {
     "data": {
      "text/plain": [
       "US          4273\n",
       "Canada      2539\n",
       "UK          1345\n",
       "America     1073\n",
       "Spain        930\n",
       "India        483\n",
       "Pakistan     472\n",
       "France       448\n",
       "Greece       437\n",
       "Name: geography, dtype: int64"
      ]
     },
     "execution_count": 181,
     "metadata": {},
     "output_type": "execute_result"
    }
   ],
   "source": [
    "train.geography = train.geography.apply(lambda x:country_dic[x] if x in country_dic else x)\n",
    "train.geography.value_counts()"
   ]
  },
  {
   "cell_type": "markdown",
   "metadata": {},
   "source": [
    "#### now check on industry"
   ]
  },
  {
   "cell_type": "code",
   "execution_count": 185,
   "metadata": {},
   "outputs": [
    {
     "data": {
      "text/plain": [
       "unknown             2949\n",
       "Marketing Agency    1556\n",
       "health care         1537\n",
       "software            1533\n",
       "mktg agency         1524\n",
       "healthcare          1481\n",
       "marketing agency    1420\n",
       "Name: industry, dtype: int64"
      ]
     },
     "execution_count": 185,
     "metadata": {},
     "output_type": "execute_result"
    }
   ],
   "source": [
    "train.industry.value_counts()"
   ]
  },
  {
   "cell_type": "markdown",
   "metadata": {},
   "source": [
    "#### similar duplicate issue as countries. i will combine them below"
   ]
  },
  {
   "cell_type": "code",
   "execution_count": 186,
   "metadata": {},
   "outputs": [],
   "source": [
    "industry_dic = {'mktg agency':'marketing agency','health care':'healthcare','Marketing Agency':'marketing agency'}"
   ]
  },
  {
   "cell_type": "code",
   "execution_count": 188,
   "metadata": {},
   "outputs": [
    {
     "data": {
      "text/plain": [
       "marketing agency    4500\n",
       "healthcare          3018\n",
       "unknown             2949\n",
       "software            1533\n",
       "Name: industry, dtype: int64"
      ]
     },
     "execution_count": 188,
     "metadata": {},
     "output_type": "execute_result"
    }
   ],
   "source": [
    "train.industry = train.industry.apply(lambda x:industry_dic[x] if x in industry_dic else x)\n",
    "train.industry.value_counts()"
   ]
  },
  {
   "cell_type": "markdown",
   "metadata": {
    "scrolled": false
   },
   "source": [
    "#### use hist plot to check client's geography data distribution to compare between unknow, unk and other categoies\n",
    "#### my assumption here is unknown industy should have a simiar distribution accross different countries"
   ]
  },
  {
   "cell_type": "code",
   "execution_count": 189,
   "metadata": {},
   "outputs": [
    {
     "name": "stderr",
     "output_type": "stream",
     "text": [
      "C:\\Users\\xiaoyal\\AppData\\Local\\Continuum\\anaconda3\\lib\\site-packages\\ipykernel_launcher.py:4: FutureWarning: Sorting because non-concatenation axis is not aligned. A future version\n",
      "of pandas will change to not sort by default.\n",
      "\n",
      "To accept the future behavior, pass 'sort=False'.\n",
      "\n",
      "To retain the current behavior and silence the warning, pass 'sort=True'.\n",
      "\n",
      "  after removing the cwd from sys.path.\n"
     ]
    }
   ],
   "source": [
    "unk = train[train.industry=='unk'].groupby(['geography']).mean().session_time_prior_month_seconds\n",
    "unknown = train[train.industry=='unknown'].groupby(['geography']).mean().session_time_prior_month_seconds\n",
    "na = train[train.industry.isna()].groupby(['geography']).mean().session_time_prior_month_seconds\n",
    "unknown_cat = pd.concat([unk,unknown,na],axis =1)\n",
    "unknown_cat.columns = ['unk','unkown','na']"
   ]
  },
  {
   "cell_type": "code",
   "execution_count": 145,
   "metadata": {},
   "outputs": [],
   "source": [
    "unk = train[train.industry=='unk'].groupby(['geography']).count().session_time_prior_month_seconds\n",
    "unknown = train[train.industry=='unknown'].groupby(['geography']).count().session_time_prior_month_seconds\n",
    "na = train[train.industry.isna()].groupby(['geography']).count().session_time_prior_month_seconds\n",
    "unknown_cat_count = pd.concat([unk,unknown,na],axis =1)\n",
    "unknown_cat_count.columns = ['unk','unkown','na']"
   ]
  },
  {
   "cell_type": "code",
   "execution_count": 146,
   "metadata": {},
   "outputs": [
    {
     "data": {
      "text/plain": [
       "<matplotlib.axes._subplots.AxesSubplot at 0x1a6da252188>"
      ]
     },
     "execution_count": 146,
     "metadata": {},
     "output_type": "execute_result"
    },
    {
     "data": {
      "image/png": "[encoded data removed]",
      "text/plain": [
       "<Figure size 1080x720 with 1 Axes>"
      ]
     },
     "metadata": {
      "needs_background": "light"
     },
     "output_type": "display_data"
    }
   ],
   "source": [
    "unknown_cat_count.plot.bar(figsize = (15,10))"
   ]
  },
  {
   "cell_type": "code",
   "execution_count": 135,
   "metadata": {},
   "outputs": [
    {
     "data": {
      "text/html": [
       "<div>\n",
       "<style scoped>\n",
       "    .dataframe tbody tr th:only-of-type {\n",
       "        vertical-align: middle;\n",
       "    }\n",
       "\n",
       "    .dataframe tbody tr th {\n",
       "        vertical-align: top;\n",
       "    }\n",
       "\n",
       "    .dataframe thead th {\n",
       "        text-align: right;\n",
       "    }\n",
       "</style>\n",
       "<table border=\"1\" class=\"dataframe\">\n",
       "  <thead>\n",
       "    <tr style=\"text-align: right;\">\n",
       "      <th></th>\n",
       "      <th>id</th>\n",
       "      <th>industry</th>\n",
       "      <th>most_common_browser</th>\n",
       "      <th>session_time_prior_month_seconds</th>\n",
       "      <th>prior_month_paid</th>\n",
       "    </tr>\n",
       "    <tr>\n",
       "      <th>geography</th>\n",
       "      <th></th>\n",
       "      <th></th>\n",
       "      <th></th>\n",
       "      <th></th>\n",
       "      <th></th>\n",
       "    </tr>\n",
       "  </thead>\n",
       "  <tbody>\n",
       "    <tr>\n",
       "      <td>America</td>\n",
       "      <td>241</td>\n",
       "      <td>241</td>\n",
       "      <td>241</td>\n",
       "      <td>241</td>\n",
       "      <td>241</td>\n",
       "    </tr>\n",
       "    <tr>\n",
       "      <td>Canada</td>\n",
       "      <td>646</td>\n",
       "      <td>646</td>\n",
       "      <td>646</td>\n",
       "      <td>646</td>\n",
       "      <td>646</td>\n",
       "    </tr>\n",
       "    <tr>\n",
       "      <td>France</td>\n",
       "      <td>100</td>\n",
       "      <td>100</td>\n",
       "      <td>100</td>\n",
       "      <td>100</td>\n",
       "      <td>100</td>\n",
       "    </tr>\n",
       "    <tr>\n",
       "      <td>Greece</td>\n",
       "      <td>107</td>\n",
       "      <td>107</td>\n",
       "      <td>107</td>\n",
       "      <td>107</td>\n",
       "      <td>107</td>\n",
       "    </tr>\n",
       "    <tr>\n",
       "      <td>India</td>\n",
       "      <td>130</td>\n",
       "      <td>130</td>\n",
       "      <td>130</td>\n",
       "      <td>130</td>\n",
       "      <td>130</td>\n",
       "    </tr>\n",
       "    <tr>\n",
       "      <td>Pakistan</td>\n",
       "      <td>131</td>\n",
       "      <td>131</td>\n",
       "      <td>131</td>\n",
       "      <td>131</td>\n",
       "      <td>131</td>\n",
       "    </tr>\n",
       "    <tr>\n",
       "      <td>Spain</td>\n",
       "      <td>225</td>\n",
       "      <td>225</td>\n",
       "      <td>225</td>\n",
       "      <td>225</td>\n",
       "      <td>225</td>\n",
       "    </tr>\n",
       "    <tr>\n",
       "      <td>UK</td>\n",
       "      <td>328</td>\n",
       "      <td>328</td>\n",
       "      <td>328</td>\n",
       "      <td>328</td>\n",
       "      <td>328</td>\n",
       "    </tr>\n",
       "    <tr>\n",
       "      <td>US</td>\n",
       "      <td>1041</td>\n",
       "      <td>1041</td>\n",
       "      <td>1041</td>\n",
       "      <td>1041</td>\n",
       "      <td>1041</td>\n",
       "    </tr>\n",
       "  </tbody>\n",
       "</table>\n",
       "</div>"
      ],
      "text/plain": [
       "             id  industry  most_common_browser  \\\n",
       "geography                                        \n",
       "America     241       241                  241   \n",
       "Canada      646       646                  646   \n",
       "France      100       100                  100   \n",
       "Greece      107       107                  107   \n",
       "India       130       130                  130   \n",
       "Pakistan    131       131                  131   \n",
       "Spain       225       225                  225   \n",
       "UK          328       328                  328   \n",
       "US         1041      1041                 1041   \n",
       "\n",
       "           session_time_prior_month_seconds  prior_month_paid  \n",
       "geography                                                      \n",
       "America                                 241               241  \n",
       "Canada                                  646               646  \n",
       "France                                  100               100  \n",
       "Greece                                  107               107  \n",
       "India                                   130               130  \n",
       "Pakistan                                131               131  \n",
       "Spain                                   225               225  \n",
       "UK                                      328               328  \n",
       "US                                     1041              1041  "
      ]
     },
     "execution_count": 135,
     "metadata": {},
     "output_type": "execute_result"
    }
   ],
   "source": [
    "train[train.industry=='unknown'].groupby(['geography']).count()"
   ]
  },
  {
   "cell_type": "markdown",
   "metadata": {},
   "source": [
    "#### total session seconds sum()"
   ]
  },
  {
   "cell_type": "code",
   "execution_count": 119,
   "metadata": {},
   "outputs": [
    {
     "data": {
      "text/html": [
       "<div>\n",
       "<style scoped>\n",
       "    .dataframe tbody tr th:only-of-type {\n",
       "        vertical-align: middle;\n",
       "    }\n",
       "\n",
       "    .dataframe tbody tr th {\n",
       "        vertical-align: top;\n",
       "    }\n",
       "\n",
       "    .dataframe thead th {\n",
       "        text-align: right;\n",
       "    }\n",
       "</style>\n",
       "<table border=\"1\" class=\"dataframe\">\n",
       "  <thead>\n",
       "    <tr style=\"text-align: right;\">\n",
       "      <th></th>\n",
       "      <th>unk</th>\n",
       "      <th>unkown</th>\n",
       "      <th>na</th>\n",
       "    </tr>\n",
       "    <tr>\n",
       "      <th>geography</th>\n",
       "      <th></th>\n",
       "      <th></th>\n",
       "      <th></th>\n",
       "    </tr>\n",
       "  </thead>\n",
       "  <tbody>\n",
       "    <tr>\n",
       "      <td>America</td>\n",
       "      <td>61187</td>\n",
       "      <td>128193</td>\n",
       "      <td>279691</td>\n",
       "    </tr>\n",
       "    <tr>\n",
       "      <td>Canada</td>\n",
       "      <td>363622</td>\n",
       "      <td>253089</td>\n",
       "      <td>701193</td>\n",
       "    </tr>\n",
       "    <tr>\n",
       "      <td>France</td>\n",
       "      <td>26358</td>\n",
       "      <td>47285</td>\n",
       "      <td>136460</td>\n",
       "    </tr>\n",
       "    <tr>\n",
       "      <td>Greece</td>\n",
       "      <td>39709</td>\n",
       "      <td>40102</td>\n",
       "      <td>138372</td>\n",
       "    </tr>\n",
       "    <tr>\n",
       "      <td>India</td>\n",
       "      <td>29427</td>\n",
       "      <td>62500</td>\n",
       "      <td>143214</td>\n",
       "    </tr>\n",
       "  </tbody>\n",
       "</table>\n",
       "</div>"
      ],
      "text/plain": [
       "              unk  unkown      na\n",
       "geography                        \n",
       "America     61187  128193  279691\n",
       "Canada     363622  253089  701193\n",
       "France      26358   47285  136460\n",
       "Greece      39709   40102  138372\n",
       "India       29427   62500  143214"
      ]
     },
     "execution_count": 119,
     "metadata": {},
     "output_type": "execute_result"
    }
   ],
   "source": [
    "unknown_cat.head()"
   ]
  },
  {
   "cell_type": "code",
   "execution_count": 142,
   "metadata": {},
   "outputs": [
    {
     "data": {
      "text/plain": [
       "<matplotlib.axes._subplots.AxesSubplot at 0x1a6da2c8388>"
      ]
     },
     "execution_count": 142,
     "metadata": {},
     "output_type": "execute_result"
    },
    {
     "data": {
      "image/png": "[encoded data removed]",
      "text/plain": [
       "<Figure size 1080x720 with 1 Axes>"
      ]
     },
     "metadata": {
      "needs_background": "light"
     },
     "output_type": "display_data"
    }
   ],
   "source": [
    "unknown_cat.plot.bar(figsize = (15,10))"
   ]
  },
  {
   "cell_type": "markdown",
   "metadata": {},
   "source": [
    "#### given the distribution, it's safe to assume unknown is similiar to unk"
   ]
  },
  {
   "cell_type": "code",
   "execution_count": 147,
   "metadata": {},
   "outputs": [],
   "source": [
    "train.loc[train.industry.isna(),'industry'] = 'unknown'"
   ]
  },
  {
   "cell_type": "code",
   "execution_count": 148,
   "metadata": {},
   "outputs": [],
   "source": [
    "train.loc[train.industry == 'unk', 'industry'] = 'unknown'"
   ]
  },
  {
   "cell_type": "code",
   "execution_count": 149,
   "metadata": {
    "scrolled": false
   },
   "outputs": [
    {
     "data": {
      "text/plain": [
       "unknown             2949\n",
       "Marketing Agency    1556\n",
       "health care         1537\n",
       "software            1533\n",
       "mktg agency         1524\n",
       "healthcare          1481\n",
       "marketing agency    1420\n",
       "Name: industry, dtype: int64"
      ]
     },
     "execution_count": 149,
     "metadata": {},
     "output_type": "execute_result"
    }
   ],
   "source": [
    "train.industry.value_counts()"
   ]
  },
  {
   "cell_type": "markdown",
   "metadata": {},
   "source": [
    "#### more on categorical data"
   ]
  },
  {
   "cell_type": "code",
   "execution_count": 51,
   "metadata": {
    "scrolled": true
   },
   "outputs": [
    {
     "data": {
      "text/plain": [
       "count    2949.000000\n",
       "mean       60.518919\n",
       "std        27.471857\n",
       "min         0.080000\n",
       "25%        31.145887\n",
       "50%        70.547595\n",
       "75%        82.445076\n",
       "max       118.578664\n",
       "Name: prior_month_paid, dtype: float64"
      ]
     },
     "execution_count": 51,
     "metadata": {},
     "output_type": "execute_result"
    }
   ],
   "source": [
    "train[train.industry=='unknown'].prior_month_paid.describe()"
   ]
  },
  {
   "cell_type": "code",
   "execution_count": 52,
   "metadata": {
    "scrolled": true
   },
   "outputs": [
    {
     "data": {
      "text/plain": [
       "count    9051.000000\n",
       "mean       92.954510\n",
       "std        30.589263\n",
       "min        17.540000\n",
       "25%        69.191005\n",
       "50%        97.816123\n",
       "75%       117.674533\n",
       "max       161.204739\n",
       "Name: prior_month_paid, dtype: float64"
      ]
     },
     "execution_count": 52,
     "metadata": {},
     "output_type": "execute_result"
    }
   ],
   "source": [
    "train[train.industry!='unknown'].prior_month_paid.describe()"
   ]
  },
  {
   "cell_type": "code",
   "execution_count": 129,
   "metadata": {},
   "outputs": [
    {
     "data": {
      "text/plain": [
       "unknown             2949\n",
       "Marketing Agency    1556\n",
       "health care         1537\n",
       "software            1533\n",
       "mktg agency         1524\n",
       "healthcare          1481\n",
       "marketing agency    1420\n",
       "Name: industry, dtype: int64"
      ]
     },
     "execution_count": 129,
     "metadata": {},
     "output_type": "execute_result"
    }
   ],
   "source": [
    "train.industry.value_counts()"
   ]
  },
  {
   "cell_type": "code",
   "execution_count": 130,
   "metadata": {
    "scrolled": false
   },
   "outputs": [
    {
     "data": {
      "text/plain": [
       "pandas.core.series.Series"
      ]
     },
     "execution_count": 130,
     "metadata": {},
     "output_type": "execute_result"
    }
   ],
   "source": [
    "type(train.industry.value_counts())"
   ]
  },
  {
   "cell_type": "code",
   "execution_count": 161,
   "metadata": {},
   "outputs": [],
   "source": [
    "plt.close('all')"
   ]
  },
  {
   "cell_type": "code",
   "execution_count": 211,
   "metadata": {},
   "outputs": [
    {
     "data": {
      "image/png": "[encoded data removed]",
      "text/plain": [
       "<Figure size 576x288 with 1 Axes>"
      ]
     },
     "metadata": {
      "needs_background": "light"
     },
     "output_type": "display_data"
    },
    {
     "data": {
      "image/png": "[encoded data removed]",
      "text/plain": [
       "<Figure size 576x288 with 1 Axes>"
      ]
     },
     "metadata": {
      "needs_background": "light"
     },
     "output_type": "display_data"
    },
    {
     "data": {
      "image/png": "[encoded data removed]",
      "text/plain": [
       "<Figure size 576x288 with 1 Axes>"
      ]
     },
     "metadata": {
      "needs_background": "light"
     },
     "output_type": "display_data"
    }
   ],
   "source": [
    "\n",
    "train.industry.value_counts().to_frame().plot.bar(figsize = (8,4))\n",
    "plt.suptitle('Industry')\n",
    "\n",
    "\n",
    "train.most_common_browser.value_counts().to_frame().plot.bar(figsize = (8,4))\n",
    "\n",
    "plt.suptitle('Browser')\n",
    "\n",
    "train.geography.value_counts().to_frame().plot.bar(figsize = (8,4))\n",
    "\n",
    "plt.suptitle('Geography')\n",
    "plt.show()"
   ]
  },
  {
   "cell_type": "code",
   "execution_count": 219,
   "metadata": {},
   "outputs": [
    {
     "data": {
      "text/plain": [
       "Chrome     0.501917\n",
       "Firefox    0.166833\n",
       "Safari     0.166000\n",
       "IE         0.165250\n",
       "Name: most_common_browser, dtype: float64"
      ]
     },
     "execution_count": 219,
     "metadata": {},
     "output_type": "execute_result"
    }
   ],
   "source": [
    "train.geography.value_counts()/train.shape[0]\n",
    "train.most_common_browser.value_counts()/train.shape[0]\n"
   ]
  },
  {
   "cell_type": "markdown",
   "metadata": {},
   "source": [
    "#### take a look at into catgorical data"
   ]
  },
  {
   "cell_type": "code",
   "execution_count": 17,
   "metadata": {},
   "outputs": [
    {
     "data": {
      "text/html": [
       "<div>\n",
       "<style scoped>\n",
       "    .dataframe tbody tr th:only-of-type {\n",
       "        vertical-align: middle;\n",
       "    }\n",
       "\n",
       "    .dataframe tbody tr th {\n",
       "        vertical-align: top;\n",
       "    }\n",
       "\n",
       "    .dataframe thead th {\n",
       "        text-align: right;\n",
       "    }\n",
       "</style>\n",
       "<table border=\"1\" class=\"dataframe\">\n",
       "  <thead>\n",
       "    <tr style=\"text-align: right;\">\n",
       "      <th></th>\n",
       "      <th>id</th>\n",
       "      <th>session_time_prior_month_seconds</th>\n",
       "      <th>prior_month_paid</th>\n",
       "    </tr>\n",
       "  </thead>\n",
       "  <tbody>\n",
       "    <tr>\n",
       "      <td>count</td>\n",
       "      <td>1.200000e+04</td>\n",
       "      <td>12000.000000</td>\n",
       "      <td>12000.000000</td>\n",
       "    </tr>\n",
       "    <tr>\n",
       "      <td>mean</td>\n",
       "      <td>4.976514e+09</td>\n",
       "      <td>1934.527583</td>\n",
       "      <td>84.983463</td>\n",
       "    </tr>\n",
       "    <tr>\n",
       "      <td>std</td>\n",
       "      <td>2.877893e+09</td>\n",
       "      <td>2523.557970</td>\n",
       "      <td>32.957244</td>\n",
       "    </tr>\n",
       "    <tr>\n",
       "      <td>min</td>\n",
       "      <td>5.550730e+05</td>\n",
       "      <td>1.000000</td>\n",
       "      <td>0.080000</td>\n",
       "    </tr>\n",
       "    <tr>\n",
       "      <td>25%</td>\n",
       "      <td>2.486958e+09</td>\n",
       "      <td>607.000000</td>\n",
       "      <td>62.517315</td>\n",
       "    </tr>\n",
       "    <tr>\n",
       "      <td>50%</td>\n",
       "      <td>4.974383e+09</td>\n",
       "      <td>1097.000000</td>\n",
       "      <td>86.870033</td>\n",
       "    </tr>\n",
       "    <tr>\n",
       "      <td>75%</td>\n",
       "      <td>7.441363e+09</td>\n",
       "      <td>2284.000000</td>\n",
       "      <td>110.642275</td>\n",
       "    </tr>\n",
       "    <tr>\n",
       "      <td>max</td>\n",
       "      <td>9.998763e+09</td>\n",
       "      <td>35603.000000</td>\n",
       "      <td>161.204739</td>\n",
       "    </tr>\n",
       "  </tbody>\n",
       "</table>\n",
       "</div>"
      ],
      "text/plain": [
       "                 id  session_time_prior_month_seconds  prior_month_paid\n",
       "count  1.200000e+04                      12000.000000      12000.000000\n",
       "mean   4.976514e+09                       1934.527583         84.983463\n",
       "std    2.877893e+09                       2523.557970         32.957244\n",
       "min    5.550730e+05                          1.000000          0.080000\n",
       "25%    2.486958e+09                        607.000000         62.517315\n",
       "50%    4.974383e+09                       1097.000000         86.870033\n",
       "75%    7.441363e+09                       2284.000000        110.642275\n",
       "max    9.998763e+09                      35603.000000        161.204739"
      ]
     },
     "execution_count": 17,
     "metadata": {},
     "output_type": "execute_result"
    }
   ],
   "source": [
    "train.describe()"
   ]
  },
  {
   "cell_type": "code",
   "execution_count": 40,
   "metadata": {},
   "outputs": [
    {
     "data": {
      "text/plain": [
       "<matplotlib.axes._subplots.AxesSubplot at 0x1a6d5684648>"
      ]
     },
     "execution_count": 40,
     "metadata": {},
     "output_type": "execute_result"
    },
    {
     "data": {
      "image/png": "[encoded data removed]",
      "text/plain": [
       "<Figure size 432x288 with 1 Axes>"
      ]
     },
     "metadata": {
      "needs_background": "light"
     },
     "output_type": "display_data"
    }
   ],
   "source": [
    "train.session_time_prior_month_seconds.hist()"
   ]
  },
  {
   "cell_type": "code",
   "execution_count": 41,
   "metadata": {},
   "outputs": [
    {
     "data": {
      "text/plain": [
       "<matplotlib.axes._subplots.AxesSubplot at 0x1a6d6054cc8>"
      ]
     },
     "execution_count": 41,
     "metadata": {},
     "output_type": "execute_result"
    },
    {
     "data": {
      "image/png": "[encoded data removed]",
      "text/plain": [
       "<Figure size 432x288 with 1 Axes>"
      ]
     },
     "metadata": {
      "needs_background": "light"
     },
     "output_type": "display_data"
    }
   ],
   "source": [
    "train.prior_month_paid.hist()"
   ]
  },
  {
   "cell_type": "code",
   "execution_count": 192,
   "metadata": {},
   "outputs": [],
   "source": [
    "train['pay_per_sec'] = train.apply(lambda x:x.prior_month_paid/x.session_time_prior_month_seconds, axis = 1)"
   ]
  },
  {
   "cell_type": "code",
   "execution_count": 193,
   "metadata": {},
   "outputs": [
    {
     "data": {
      "text/html": [
       "<div>\n",
       "<style scoped>\n",
       "    .dataframe tbody tr th:only-of-type {\n",
       "        vertical-align: middle;\n",
       "    }\n",
       "\n",
       "    .dataframe tbody tr th {\n",
       "        vertical-align: top;\n",
       "    }\n",
       "\n",
       "    .dataframe thead th {\n",
       "        text-align: right;\n",
       "    }\n",
       "</style>\n",
       "<table border=\"1\" class=\"dataframe\">\n",
       "  <thead>\n",
       "    <tr style=\"text-align: right;\">\n",
       "      <th></th>\n",
       "      <th>id</th>\n",
       "      <th>industry</th>\n",
       "      <th>geography</th>\n",
       "      <th>most_common_browser</th>\n",
       "      <th>session_time_prior_month_seconds</th>\n",
       "      <th>prior_month_paid</th>\n",
       "      <th>pay_per_sec</th>\n",
       "    </tr>\n",
       "  </thead>\n",
       "  <tbody>\n",
       "    <tr>\n",
       "      <td>291</td>\n",
       "      <td>1622205437</td>\n",
       "      <td>marketing agency</td>\n",
       "      <td>US</td>\n",
       "      <td>Firefox</td>\n",
       "      <td>1</td>\n",
       "      <td>111.550000</td>\n",
       "      <td>111.550000</td>\n",
       "    </tr>\n",
       "    <tr>\n",
       "      <td>6002</td>\n",
       "      <td>8932650208</td>\n",
       "      <td>marketing agency</td>\n",
       "      <td>America</td>\n",
       "      <td>Chrome</td>\n",
       "      <td>1</td>\n",
       "      <td>107.910000</td>\n",
       "      <td>107.910000</td>\n",
       "    </tr>\n",
       "    <tr>\n",
       "      <td>4908</td>\n",
       "      <td>6137928058</td>\n",
       "      <td>marketing agency</td>\n",
       "      <td>US</td>\n",
       "      <td>Safari</td>\n",
       "      <td>1</td>\n",
       "      <td>105.190000</td>\n",
       "      <td>105.190000</td>\n",
       "    </tr>\n",
       "    <tr>\n",
       "      <td>6246</td>\n",
       "      <td>337521627</td>\n",
       "      <td>marketing agency</td>\n",
       "      <td>Canada</td>\n",
       "      <td>IE</td>\n",
       "      <td>1</td>\n",
       "      <td>98.790000</td>\n",
       "      <td>98.790000</td>\n",
       "    </tr>\n",
       "    <tr>\n",
       "      <td>6928</td>\n",
       "      <td>8698428135</td>\n",
       "      <td>healthcare</td>\n",
       "      <td>US</td>\n",
       "      <td>IE</td>\n",
       "      <td>1</td>\n",
       "      <td>86.850000</td>\n",
       "      <td>86.850000</td>\n",
       "    </tr>\n",
       "    <tr>\n",
       "      <td>...</td>\n",
       "      <td>...</td>\n",
       "      <td>...</td>\n",
       "      <td>...</td>\n",
       "      <td>...</td>\n",
       "      <td>...</td>\n",
       "      <td>...</td>\n",
       "      <td>...</td>\n",
       "    </tr>\n",
       "    <tr>\n",
       "      <td>2953</td>\n",
       "      <td>5622785784</td>\n",
       "      <td>marketing agency</td>\n",
       "      <td>India</td>\n",
       "      <td>Chrome</td>\n",
       "      <td>33277</td>\n",
       "      <td>101.489938</td>\n",
       "      <td>0.003050</td>\n",
       "    </tr>\n",
       "    <tr>\n",
       "      <td>1913</td>\n",
       "      <td>4817104558</td>\n",
       "      <td>unknown</td>\n",
       "      <td>Canada</td>\n",
       "      <td>Chrome</td>\n",
       "      <td>35603</td>\n",
       "      <td>104.443858</td>\n",
       "      <td>0.002934</td>\n",
       "    </tr>\n",
       "    <tr>\n",
       "      <td>10130</td>\n",
       "      <td>3203290771</td>\n",
       "      <td>healthcare</td>\n",
       "      <td>UK</td>\n",
       "      <td>IE</td>\n",
       "      <td>27419</td>\n",
       "      <td>76.982537</td>\n",
       "      <td>0.002808</td>\n",
       "    </tr>\n",
       "    <tr>\n",
       "      <td>11026</td>\n",
       "      <td>7899981003</td>\n",
       "      <td>unknown</td>\n",
       "      <td>France</td>\n",
       "      <td>Chrome</td>\n",
       "      <td>20839</td>\n",
       "      <td>56.279604</td>\n",
       "      <td>0.002701</td>\n",
       "    </tr>\n",
       "    <tr>\n",
       "      <td>11227</td>\n",
       "      <td>6317129498</td>\n",
       "      <td>unknown</td>\n",
       "      <td>India</td>\n",
       "      <td>IE</td>\n",
       "      <td>98</td>\n",
       "      <td>0.080000</td>\n",
       "      <td>0.000816</td>\n",
       "    </tr>\n",
       "  </tbody>\n",
       "</table>\n",
       "<p>12000 rows × 7 columns</p>\n",
       "</div>"
      ],
      "text/plain": [
       "               id          industry geography most_common_browser  \\\n",
       "291    1622205437  marketing agency        US             Firefox   \n",
       "6002   8932650208  marketing agency   America              Chrome   \n",
       "4908   6137928058  marketing agency        US              Safari   \n",
       "6246    337521627  marketing agency    Canada                  IE   \n",
       "6928   8698428135        healthcare        US                  IE   \n",
       "...           ...               ...       ...                 ...   \n",
       "2953   5622785784  marketing agency     India              Chrome   \n",
       "1913   4817104558           unknown    Canada              Chrome   \n",
       "10130  3203290771        healthcare        UK                  IE   \n",
       "11026  7899981003           unknown    France              Chrome   \n",
       "11227  6317129498           unknown     India                  IE   \n",
       "\n",
       "       session_time_prior_month_seconds  prior_month_paid  pay_per_sec  \n",
       "291                                   1        111.550000   111.550000  \n",
       "6002                                  1        107.910000   107.910000  \n",
       "4908                                  1        105.190000   105.190000  \n",
       "6246                                  1         98.790000    98.790000  \n",
       "6928                                  1         86.850000    86.850000  \n",
       "...                                 ...               ...          ...  \n",
       "2953                              33277        101.489938     0.003050  \n",
       "1913                              35603        104.443858     0.002934  \n",
       "10130                             27419         76.982537     0.002808  \n",
       "11026                             20839         56.279604     0.002701  \n",
       "11227                                98          0.080000     0.000816  \n",
       "\n",
       "[12000 rows x 7 columns]"
      ]
     },
     "execution_count": 193,
     "metadata": {},
     "output_type": "execute_result"
    }
   ],
   "source": [
    "train.sort_values('pay_per_sec',ascending=False)"
   ]
  },
  {
   "cell_type": "code",
   "execution_count": 194,
   "metadata": {},
   "outputs": [
    {
     "data": {
      "text/html": [
       "<div>\n",
       "<style scoped>\n",
       "    .dataframe tbody tr th:only-of-type {\n",
       "        vertical-align: middle;\n",
       "    }\n",
       "\n",
       "    .dataframe tbody tr th {\n",
       "        vertical-align: top;\n",
       "    }\n",
       "\n",
       "    .dataframe thead th {\n",
       "        text-align: right;\n",
       "    }\n",
       "</style>\n",
       "<table border=\"1\" class=\"dataframe\">\n",
       "  <thead>\n",
       "    <tr style=\"text-align: right;\">\n",
       "      <th></th>\n",
       "      <th>id</th>\n",
       "      <th>industry</th>\n",
       "      <th>geography</th>\n",
       "      <th>most_common_browser</th>\n",
       "      <th>session_time_prior_month_seconds</th>\n",
       "      <th>prior_month_paid</th>\n",
       "      <th>pay_per_sec</th>\n",
       "    </tr>\n",
       "  </thead>\n",
       "  <tbody>\n",
       "    <tr>\n",
       "      <td>2444</td>\n",
       "      <td>6125091066</td>\n",
       "      <td>marketing agency</td>\n",
       "      <td>America</td>\n",
       "      <td>Firefox</td>\n",
       "      <td>27698</td>\n",
       "      <td>161.204739</td>\n",
       "      <td>0.005820</td>\n",
       "    </tr>\n",
       "    <tr>\n",
       "      <td>8114</td>\n",
       "      <td>292930873</td>\n",
       "      <td>marketing agency</td>\n",
       "      <td>US</td>\n",
       "      <td>Firefox</td>\n",
       "      <td>20066</td>\n",
       "      <td>159.621205</td>\n",
       "      <td>0.007955</td>\n",
       "    </tr>\n",
       "    <tr>\n",
       "      <td>11787</td>\n",
       "      <td>3668095301</td>\n",
       "      <td>marketing agency</td>\n",
       "      <td>US</td>\n",
       "      <td>Firefox</td>\n",
       "      <td>19480</td>\n",
       "      <td>158.509675</td>\n",
       "      <td>0.008137</td>\n",
       "    </tr>\n",
       "    <tr>\n",
       "      <td>11108</td>\n",
       "      <td>3108954002</td>\n",
       "      <td>marketing agency</td>\n",
       "      <td>US</td>\n",
       "      <td>Chrome</td>\n",
       "      <td>29276</td>\n",
       "      <td>157.134326</td>\n",
       "      <td>0.005367</td>\n",
       "    </tr>\n",
       "    <tr>\n",
       "      <td>1838</td>\n",
       "      <td>2986090621</td>\n",
       "      <td>marketing agency</td>\n",
       "      <td>America</td>\n",
       "      <td>Firefox</td>\n",
       "      <td>17636</td>\n",
       "      <td>157.066364</td>\n",
       "      <td>0.008906</td>\n",
       "    </tr>\n",
       "    <tr>\n",
       "      <td>...</td>\n",
       "      <td>...</td>\n",
       "      <td>...</td>\n",
       "      <td>...</td>\n",
       "      <td>...</td>\n",
       "      <td>...</td>\n",
       "      <td>...</td>\n",
       "      <td>...</td>\n",
       "    </tr>\n",
       "    <tr>\n",
       "      <td>4901</td>\n",
       "      <td>986237723</td>\n",
       "      <td>unknown</td>\n",
       "      <td>India</td>\n",
       "      <td>Chrome</td>\n",
       "      <td>26</td>\n",
       "      <td>1.560000</td>\n",
       "      <td>0.060000</td>\n",
       "    </tr>\n",
       "    <tr>\n",
       "      <td>11334</td>\n",
       "      <td>8499684362</td>\n",
       "      <td>unknown</td>\n",
       "      <td>Greece</td>\n",
       "      <td>Chrome</td>\n",
       "      <td>94</td>\n",
       "      <td>1.390000</td>\n",
       "      <td>0.014787</td>\n",
       "    </tr>\n",
       "    <tr>\n",
       "      <td>1218</td>\n",
       "      <td>5363822847</td>\n",
       "      <td>unknown</td>\n",
       "      <td>France</td>\n",
       "      <td>Chrome</td>\n",
       "      <td>72</td>\n",
       "      <td>1.290000</td>\n",
       "      <td>0.017917</td>\n",
       "    </tr>\n",
       "    <tr>\n",
       "      <td>7342</td>\n",
       "      <td>5929036117</td>\n",
       "      <td>unknown</td>\n",
       "      <td>India</td>\n",
       "      <td>IE</td>\n",
       "      <td>51</td>\n",
       "      <td>0.900000</td>\n",
       "      <td>0.017647</td>\n",
       "    </tr>\n",
       "    <tr>\n",
       "      <td>11227</td>\n",
       "      <td>6317129498</td>\n",
       "      <td>unknown</td>\n",
       "      <td>India</td>\n",
       "      <td>IE</td>\n",
       "      <td>98</td>\n",
       "      <td>0.080000</td>\n",
       "      <td>0.000816</td>\n",
       "    </tr>\n",
       "  </tbody>\n",
       "</table>\n",
       "<p>12000 rows × 7 columns</p>\n",
       "</div>"
      ],
      "text/plain": [
       "               id          industry geography most_common_browser  \\\n",
       "2444   6125091066  marketing agency   America             Firefox   \n",
       "8114    292930873  marketing agency        US             Firefox   \n",
       "11787  3668095301  marketing agency        US             Firefox   \n",
       "11108  3108954002  marketing agency        US              Chrome   \n",
       "1838   2986090621  marketing agency   America             Firefox   \n",
       "...           ...               ...       ...                 ...   \n",
       "4901    986237723           unknown     India              Chrome   \n",
       "11334  8499684362           unknown    Greece              Chrome   \n",
       "1218   5363822847           unknown    France              Chrome   \n",
       "7342   5929036117           unknown     India                  IE   \n",
       "11227  6317129498           unknown     India                  IE   \n",
       "\n",
       "       session_time_prior_month_seconds  prior_month_paid  pay_per_sec  \n",
       "2444                              27698        161.204739     0.005820  \n",
       "8114                              20066        159.621205     0.007955  \n",
       "11787                             19480        158.509675     0.008137  \n",
       "11108                             29276        157.134326     0.005367  \n",
       "1838                              17636        157.066364     0.008906  \n",
       "...                                 ...               ...          ...  \n",
       "4901                                 26          1.560000     0.060000  \n",
       "11334                                94          1.390000     0.014787  \n",
       "1218                                 72          1.290000     0.017917  \n",
       "7342                                 51          0.900000     0.017647  \n",
       "11227                                98          0.080000     0.000816  \n",
       "\n",
       "[12000 rows x 7 columns]"
      ]
     },
     "execution_count": 194,
     "metadata": {},
     "output_type": "execute_result"
    }
   ],
   "source": [
    "train.sort_values('prior_month_paid',ascending=False)"
   ]
  },
  {
   "cell_type": "markdown",
   "metadata": {},
   "source": [
    "#### average session seconds for each county or industy"
   ]
  },
  {
   "cell_type": "code",
   "execution_count": 205,
   "metadata": {},
   "outputs": [
    {
     "data": {
      "text/html": [
       "<div>\n",
       "<style scoped>\n",
       "    .dataframe tbody tr th:only-of-type {\n",
       "        vertical-align: middle;\n",
       "    }\n",
       "\n",
       "    .dataframe tbody tr th {\n",
       "        vertical-align: top;\n",
       "    }\n",
       "\n",
       "    .dataframe thead th {\n",
       "        text-align: right;\n",
       "    }\n",
       "</style>\n",
       "<table border=\"1\" class=\"dataframe\">\n",
       "  <thead>\n",
       "    <tr style=\"text-align: right;\">\n",
       "      <th></th>\n",
       "      <th>id</th>\n",
       "      <th>session_time_prior_month_seconds</th>\n",
       "      <th>prior_month_paid</th>\n",
       "      <th>pay_per_sec</th>\n",
       "    </tr>\n",
       "    <tr>\n",
       "      <th>industry</th>\n",
       "      <th></th>\n",
       "      <th></th>\n",
       "      <th></th>\n",
       "      <th></th>\n",
       "    </tr>\n",
       "  </thead>\n",
       "  <tbody>\n",
       "    <tr>\n",
       "      <td>healthcare</td>\n",
       "      <td>15068174703696</td>\n",
       "      <td>5978729</td>\n",
       "      <td>246785.631585</td>\n",
       "      <td>986.223994</td>\n",
       "    </tr>\n",
       "    <tr>\n",
       "      <td>marketing agency</td>\n",
       "      <td>22355494610493</td>\n",
       "      <td>8448872</td>\n",
       "      <td>475521.599323</td>\n",
       "      <td>1459.170610</td>\n",
       "    </tr>\n",
       "    <tr>\n",
       "      <td>software</td>\n",
       "      <td>7606891761903</td>\n",
       "      <td>3099480</td>\n",
       "      <td>119024.036038</td>\n",
       "      <td>263.306009</td>\n",
       "    </tr>\n",
       "    <tr>\n",
       "      <td>unknown</td>\n",
       "      <td>14687606140040</td>\n",
       "      <td>5687250</td>\n",
       "      <td>178470.292918</td>\n",
       "      <td>447.188665</td>\n",
       "    </tr>\n",
       "  </tbody>\n",
       "</table>\n",
       "</div>"
      ],
      "text/plain": [
       "                              id  session_time_prior_month_seconds  \\\n",
       "industry                                                             \n",
       "healthcare        15068174703696                           5978729   \n",
       "marketing agency  22355494610493                           8448872   \n",
       "software           7606891761903                           3099480   \n",
       "unknown           14687606140040                           5687250   \n",
       "\n",
       "                  prior_month_paid  pay_per_sec  \n",
       "industry                                         \n",
       "healthcare           246785.631585   986.223994  \n",
       "marketing agency     475521.599323  1459.170610  \n",
       "software             119024.036038   263.306009  \n",
       "unknown              178470.292918   447.188665  "
      ]
     },
     "execution_count": 205,
     "metadata": {},
     "output_type": "execute_result"
    }
   ],
   "source": [
    "train.groupby(['industry']).sum()"
   ]
  },
  {
   "cell_type": "code",
   "execution_count": 206,
   "metadata": {},
   "outputs": [
    {
     "data": {
      "image/png": "[encoded data removed]",
      "text/plain": [
       "<Figure size 432x288 with 1 Axes>"
      ]
     },
     "metadata": {
      "needs_background": "light"
     },
     "output_type": "display_data"
    },
    {
     "data": {
      "image/png": "[encoded data removed]",
      "text/plain": [
       "<Figure size 432x288 with 1 Axes>"
      ]
     },
     "metadata": {
      "needs_background": "light"
     },
     "output_type": "display_data"
    },
    {
     "data": {
      "image/png": "[encoded data removed]",
      "text/plain": [
       "<Figure size 432x288 with 1 Axes>"
      ]
     },
     "metadata": {
      "needs_background": "light"
     },
     "output_type": "display_data"
    }
   ],
   "source": [
    "geo_dis = train.groupby(['geography']).mean().session_time_prior_month_seconds.to_frame()\n",
    "geo_dis.plot.bar()\n",
    "plt.suptitle('Average Session Time by Countries')\n",
    "industy_dis = train.groupby(['industry']).mean().session_time_prior_month_seconds.to_frame()\n",
    "industy_dis.plot.bar()\n",
    "plt.suptitle('Average Session Time by Industry')\n",
    "\n",
    "broswer_dis = train.groupby(['most_common_browser']).mean().session_time_prior_month_seconds.to_frame()\n",
    "broswer_dis.plot.bar()\n",
    "plt.suptitle('Average Session Time by Browser')\n",
    "\n",
    "plt.show()"
   ]
  },
  {
   "cell_type": "code",
   "execution_count": 196,
   "metadata": {},
   "outputs": [
    {
     "data": {
      "text/plain": [
       "marketing agency    4500\n",
       "healthcare          3018\n",
       "unknown             2949\n",
       "software            1533\n",
       "Name: industry, dtype: int64"
      ]
     },
     "execution_count": 196,
     "metadata": {},
     "output_type": "execute_result"
    }
   ],
   "source": [
    "train.industry.value_counts()"
   ]
  },
  {
   "cell_type": "code",
   "execution_count": 208,
   "metadata": {},
   "outputs": [],
   "source": [
    "broswer_dis = train.groupby(['most_common_browser']).mean()"
   ]
  },
  {
   "cell_type": "code",
   "execution_count": 207,
   "metadata": {
    "scrolled": false
   },
   "outputs": [
    {
     "data": {
      "image/png": "[encoded data removed]",
      "text/plain": [
       "<Figure size 432x288 with 1 Axes>"
      ]
     },
     "metadata": {
      "needs_background": "light"
     },
     "output_type": "display_data"
    },
    {
     "data": {
      "image/png": "[encoded data removed]",
      "text/plain": [
       "<Figure size 432x288 with 1 Axes>"
      ]
     },
     "metadata": {
      "needs_background": "light"
     },
     "output_type": "display_data"
    },
    {
     "data": {
      "image/png": "[encoded data removed]",
      "text/plain": [
       "<Figure size 432x288 with 1 Axes>"
      ]
     },
     "metadata": {
      "needs_background": "light"
     },
     "output_type": "display_data"
    }
   ],
   "source": [
    "geo_dis = train.groupby(['geography']).mean().prior_month_paid.to_frame()\n",
    "geo_dis.plot.bar()\n",
    "plt.suptitle('Average Paid by Countries')\n",
    "industy_dis = train.groupby(['industry']).mean().prior_month_paid.to_frame()\n",
    "industy_dis.plot.bar()\n",
    "plt.suptitle('Average Paid by Industry')\n",
    "broswer_dis = train.groupby(['most_common_browser']).mean().prior_month_paid.to_frame()\n",
    "broswer_dis.plot.bar()\n",
    "plt.suptitle('Average Paid by Browser')\n",
    "plt.show()"
   ]
  },
  {
   "cell_type": "code",
   "execution_count": 183,
   "metadata": {},
   "outputs": [
    {
     "data": {
      "text/plain": [
       "Index(['id', 'industry', 'geography', 'most_common_browser',\n",
       "       'session_time_prior_month_seconds', 'prior_month_paid'],\n",
       "      dtype='object')"
      ]
     },
     "execution_count": 183,
     "metadata": {},
     "output_type": "execute_result"
    }
   ],
   "source": [
    "train.columns"
   ]
  },
  {
   "cell_type": "code",
   "execution_count": 201,
   "metadata": {},
   "outputs": [
    {
     "data": {
      "text/html": [
       "<div>\n",
       "<style scoped>\n",
       "    .dataframe tbody tr th:only-of-type {\n",
       "        vertical-align: middle;\n",
       "    }\n",
       "\n",
       "    .dataframe tbody tr th {\n",
       "        vertical-align: top;\n",
       "    }\n",
       "\n",
       "    .dataframe thead th {\n",
       "        text-align: right;\n",
       "    }\n",
       "</style>\n",
       "<table border=\"1\" class=\"dataframe\">\n",
       "  <thead>\n",
       "    <tr style=\"text-align: right;\">\n",
       "      <th></th>\n",
       "      <th>id</th>\n",
       "      <th>session_time_prior_month_seconds</th>\n",
       "      <th>prior_month_paid</th>\n",
       "      <th>pay_per_sec</th>\n",
       "    </tr>\n",
       "  </thead>\n",
       "  <tbody>\n",
       "    <tr>\n",
       "      <td>count</td>\n",
       "      <td>1.200000e+04</td>\n",
       "      <td>12000.000000</td>\n",
       "      <td>12000.000000</td>\n",
       "      <td>12000.000000</td>\n",
       "    </tr>\n",
       "    <tr>\n",
       "      <td>mean</td>\n",
       "      <td>4.976514e+09</td>\n",
       "      <td>1934.527583</td>\n",
       "      <td>84.983463</td>\n",
       "      <td>0.262991</td>\n",
       "    </tr>\n",
       "    <tr>\n",
       "      <td>std</td>\n",
       "      <td>2.877893e+09</td>\n",
       "      <td>2523.557970</td>\n",
       "      <td>32.957244</td>\n",
       "      <td>2.683686</td>\n",
       "    </tr>\n",
       "    <tr>\n",
       "      <td>min</td>\n",
       "      <td>5.550730e+05</td>\n",
       "      <td>1.000000</td>\n",
       "      <td>0.080000</td>\n",
       "      <td>0.000816</td>\n",
       "    </tr>\n",
       "    <tr>\n",
       "      <td>25%</td>\n",
       "      <td>2.486958e+09</td>\n",
       "      <td>607.000000</td>\n",
       "      <td>62.517315</td>\n",
       "      <td>0.032623</td>\n",
       "    </tr>\n",
       "    <tr>\n",
       "      <td>50%</td>\n",
       "      <td>4.974383e+09</td>\n",
       "      <td>1097.000000</td>\n",
       "      <td>86.870033</td>\n",
       "      <td>0.065873</td>\n",
       "    </tr>\n",
       "    <tr>\n",
       "      <td>75%</td>\n",
       "      <td>7.441363e+09</td>\n",
       "      <td>2284.000000</td>\n",
       "      <td>110.642275</td>\n",
       "      <td>0.137767</td>\n",
       "    </tr>\n",
       "    <tr>\n",
       "      <td>max</td>\n",
       "      <td>9.998763e+09</td>\n",
       "      <td>35603.000000</td>\n",
       "      <td>161.204739</td>\n",
       "      <td>111.550000</td>\n",
       "    </tr>\n",
       "  </tbody>\n",
       "</table>\n",
       "</div>"
      ],
      "text/plain": [
       "                 id  session_time_prior_month_seconds  prior_month_paid  \\\n",
       "count  1.200000e+04                      12000.000000      12000.000000   \n",
       "mean   4.976514e+09                       1934.527583         84.983463   \n",
       "std    2.877893e+09                       2523.557970         32.957244   \n",
       "min    5.550730e+05                          1.000000          0.080000   \n",
       "25%    2.486958e+09                        607.000000         62.517315   \n",
       "50%    4.974383e+09                       1097.000000         86.870033   \n",
       "75%    7.441363e+09                       2284.000000        110.642275   \n",
       "max    9.998763e+09                      35603.000000        161.204739   \n",
       "\n",
       "        pay_per_sec  \n",
       "count  12000.000000  \n",
       "mean       0.262991  \n",
       "std        2.683686  \n",
       "min        0.000816  \n",
       "25%        0.032623  \n",
       "50%        0.065873  \n",
       "75%        0.137767  \n",
       "max      111.550000  "
      ]
     },
     "execution_count": 201,
     "metadata": {},
     "output_type": "execute_result"
    }
   ],
   "source": [
    "train.describe()"
   ]
  },
  {
   "cell_type": "code",
   "execution_count": 221,
   "metadata": {},
   "outputs": [
    {
     "data": {
      "text/plain": [
       "US          0.356083\n",
       "Canada      0.211583\n",
       "UK          0.112083\n",
       "America     0.089417\n",
       "Spain       0.077500\n",
       "India       0.040250\n",
       "Pakistan    0.039333\n",
       "France      0.037333\n",
       "Greece      0.036417\n",
       "Name: geography, dtype: float64"
      ]
     },
     "execution_count": 221,
     "metadata": {},
     "output_type": "execute_result"
    }
   ],
   "source": [
    "train.geography.value_counts()/train.shape[0]\n"
   ]
  },
  {
   "cell_type": "code",
   "execution_count": 222,
   "metadata": {},
   "outputs": [
    {
     "data": {
      "text/plain": [
       "marketing agency    0.37500\n",
       "healthcare          0.25150\n",
       "unknown             0.24575\n",
       "software            0.12775\n",
       "Name: industry, dtype: float64"
      ]
     },
     "execution_count": 222,
     "metadata": {},
     "output_type": "execute_result"
    }
   ],
   "source": [
    "train.industry.value_counts()/train.shape[0]\n"
   ]
  },
  {
   "cell_type": "code",
   "execution_count": 220,
   "metadata": {},
   "outputs": [
    {
     "data": {
      "text/plain": [
       "Chrome     0.501917\n",
       "Firefox    0.166833\n",
       "Safari     0.166000\n",
       "IE         0.165250\n",
       "Name: most_common_browser, dtype: float64"
      ]
     },
     "execution_count": 220,
     "metadata": {},
     "output_type": "execute_result"
    }
   ],
   "source": [
    "train.most_common_browser.value_counts()/train.shape[0]\n"
   ]
  },
  {
   "cell_type": "markdown",
   "metadata": {},
   "source": [
    "### Question 1  Please provide a general description of the data. This may involve descriptive statistics, graphs, or other presentation methods of your choice.\n"
   ]
  },
  {
   "cell_type": "markdown",
   "metadata": {},
   "source": [
    "<br> The data presents customer usage of Moz.com. \n",
    "<br> Two numerical data show how long each customer use the service and how much they have paid for the prior month.\n",
    "<br> Three categorical data show the industry, country and brower usage of each customers.\n",
    "<br> 35% customers are from US, 37.5% customers are from Marketing Agency. 50% customers are from Chrome.\n",
    "<br> The average time each customer spent is about 1900 second and they paid on average 85 for the service.\n",
    "<br> Across different countries, customers for America paid more for their usage than Asian and Europe regions, while average usage time doesn't show a lot difference (which could be tested with significance test)\n",
    "<br> Across different industy, marketing agency paid more for Moz.com's service, about 20% more than average\n",
    "<br> Average usage and paid amount are about the same for browsers."
   ]
  },
  {
   "cell_type": "markdown",
   "metadata": {},
   "source": [
    "### Question 2 Please create a linear regression model which estimates the prior_month_paid as a function of some (or all) of the attributes contained in the file"
   ]
  },
  {
   "cell_type": "code",
   "execution_count": 378,
   "metadata": {},
   "outputs": [],
   "source": [
    "from sklearn.preprocessing import StandardScaler, MinMaxScaler\n",
    "from sklearn.model_selection import GridSearchCV, train_test_split\n",
    "from sklearn.linear_model import ElasticNet,Lasso\n",
    "\n",
    "\n",
    "\n",
    "from sklearn.pipeline import make_pipeline\n",
    "\n",
    "from sklearn.model_selection import KFold, cross_val_score, train_test_split\n",
    "from sklearn.metrics import mean_squared_error,r2_score\n",
    "from sklearn.metrics import median_absolute_error\n",
    "\n",
    "std_scale = StandardScaler(copy=False)\n",
    "min_max = MinMaxScaler(copy=False)"
   ]
  },
  {
   "cell_type": "code",
   "execution_count": 223,
   "metadata": {},
   "outputs": [
    {
     "data": {
      "text/plain": [
       "id                                  False\n",
       "industry                            False\n",
       "geography                           False\n",
       "most_common_browser                 False\n",
       "session_time_prior_month_seconds    False\n",
       "prior_month_paid                    False\n",
       "pay_per_sec                         False\n",
       "dtype: bool"
      ]
     },
     "execution_count": 223,
     "metadata": {},
     "output_type": "execute_result"
    }
   ],
   "source": [
    "train.isna().any()"
   ]
  },
  {
   "cell_type": "markdown",
   "metadata": {},
   "source": [
    "#### use one hot encoding to transform categorical date to numerical data \n"
   ]
  },
  {
   "cell_type": "code",
   "execution_count": 224,
   "metadata": {},
   "outputs": [],
   "source": [
    "train_for_model = pd.get_dummies(train)"
   ]
  },
  {
   "cell_type": "code",
   "execution_count": 226,
   "metadata": {},
   "outputs": [
    {
     "data": {
      "text/plain": [
       "Index(['id', 'session_time_prior_month_seconds', 'prior_month_paid',\n",
       "       'pay_per_sec', 'industry_healthcare', 'industry_marketing agency',\n",
       "       'industry_software', 'industry_unknown', 'geography_America',\n",
       "       'geography_Canada', 'geography_France', 'geography_Greece',\n",
       "       'geography_India', 'geography_Pakistan', 'geography_Spain',\n",
       "       'geography_UK', 'geography_US', 'most_common_browser_Chrome',\n",
       "       'most_common_browser_Firefox', 'most_common_browser_IE',\n",
       "       'most_common_browser_Safari'],\n",
       "      dtype='object')"
      ]
     },
     "execution_count": 226,
     "metadata": {},
     "output_type": "execute_result"
    }
   ],
   "source": [
    "train_for_model.columns"
   ]
  },
  {
   "cell_type": "code",
   "execution_count": 409,
   "metadata": {},
   "outputs": [],
   "source": [
    "y = train_for_model.prior_month_paid\n",
    "X = train_for_model.drop(['prior_month_paid','pay_per_sec'],axis=1)"
   ]
  },
  {
   "cell_type": "code",
   "execution_count": 410,
   "metadata": {},
   "outputs": [],
   "source": [
    "X = X.set_index(['id'])"
   ]
  },
  {
   "cell_type": "code",
   "execution_count": 411,
   "metadata": {},
   "outputs": [
    {
     "data": {
      "text/html": [
       "<div>\n",
       "<style scoped>\n",
       "    .dataframe tbody tr th:only-of-type {\n",
       "        vertical-align: middle;\n",
       "    }\n",
       "\n",
       "    .dataframe tbody tr th {\n",
       "        vertical-align: top;\n",
       "    }\n",
       "\n",
       "    .dataframe thead th {\n",
       "        text-align: right;\n",
       "    }\n",
       "</style>\n",
       "<table border=\"1\" class=\"dataframe\">\n",
       "  <thead>\n",
       "    <tr style=\"text-align: right;\">\n",
       "      <th></th>\n",
       "      <th>session_time_prior_month_seconds</th>\n",
       "      <th>industry_healthcare</th>\n",
       "      <th>industry_marketing agency</th>\n",
       "      <th>industry_software</th>\n",
       "      <th>industry_unknown</th>\n",
       "      <th>geography_America</th>\n",
       "      <th>geography_Canada</th>\n",
       "      <th>geography_France</th>\n",
       "      <th>geography_Greece</th>\n",
       "      <th>geography_India</th>\n",
       "      <th>geography_Pakistan</th>\n",
       "      <th>geography_Spain</th>\n",
       "      <th>geography_UK</th>\n",
       "      <th>geography_US</th>\n",
       "      <th>most_common_browser_Chrome</th>\n",
       "      <th>most_common_browser_Firefox</th>\n",
       "      <th>most_common_browser_IE</th>\n",
       "      <th>most_common_browser_Safari</th>\n",
       "    </tr>\n",
       "    <tr>\n",
       "      <th>id</th>\n",
       "      <th></th>\n",
       "      <th></th>\n",
       "      <th></th>\n",
       "      <th></th>\n",
       "      <th></th>\n",
       "      <th></th>\n",
       "      <th></th>\n",
       "      <th></th>\n",
       "      <th></th>\n",
       "      <th></th>\n",
       "      <th></th>\n",
       "      <th></th>\n",
       "      <th></th>\n",
       "      <th></th>\n",
       "      <th></th>\n",
       "      <th></th>\n",
       "      <th></th>\n",
       "      <th></th>\n",
       "    </tr>\n",
       "  </thead>\n",
       "  <tbody>\n",
       "    <tr>\n",
       "      <td>8721560330</td>\n",
       "      <td>405</td>\n",
       "      <td>1</td>\n",
       "      <td>0</td>\n",
       "      <td>0</td>\n",
       "      <td>0</td>\n",
       "      <td>1</td>\n",
       "      <td>0</td>\n",
       "      <td>0</td>\n",
       "      <td>0</td>\n",
       "      <td>0</td>\n",
       "      <td>0</td>\n",
       "      <td>0</td>\n",
       "      <td>0</td>\n",
       "      <td>0</td>\n",
       "      <td>0</td>\n",
       "      <td>0</td>\n",
       "      <td>0</td>\n",
       "      <td>1</td>\n",
       "    </tr>\n",
       "    <tr>\n",
       "      <td>5265684450</td>\n",
       "      <td>4460</td>\n",
       "      <td>0</td>\n",
       "      <td>0</td>\n",
       "      <td>0</td>\n",
       "      <td>1</td>\n",
       "      <td>0</td>\n",
       "      <td>0</td>\n",
       "      <td>0</td>\n",
       "      <td>0</td>\n",
       "      <td>0</td>\n",
       "      <td>0</td>\n",
       "      <td>0</td>\n",
       "      <td>1</td>\n",
       "      <td>0</td>\n",
       "      <td>0</td>\n",
       "      <td>0</td>\n",
       "      <td>1</td>\n",
       "      <td>0</td>\n",
       "    </tr>\n",
       "    <tr>\n",
       "      <td>7023768415</td>\n",
       "      <td>289</td>\n",
       "      <td>0</td>\n",
       "      <td>1</td>\n",
       "      <td>0</td>\n",
       "      <td>0</td>\n",
       "      <td>0</td>\n",
       "      <td>0</td>\n",
       "      <td>0</td>\n",
       "      <td>0</td>\n",
       "      <td>0</td>\n",
       "      <td>0</td>\n",
       "      <td>1</td>\n",
       "      <td>0</td>\n",
       "      <td>0</td>\n",
       "      <td>0</td>\n",
       "      <td>1</td>\n",
       "      <td>0</td>\n",
       "      <td>0</td>\n",
       "    </tr>\n",
       "    <tr>\n",
       "      <td>7733403428</td>\n",
       "      <td>4242</td>\n",
       "      <td>0</td>\n",
       "      <td>0</td>\n",
       "      <td>0</td>\n",
       "      <td>1</td>\n",
       "      <td>1</td>\n",
       "      <td>0</td>\n",
       "      <td>0</td>\n",
       "      <td>0</td>\n",
       "      <td>0</td>\n",
       "      <td>0</td>\n",
       "      <td>0</td>\n",
       "      <td>0</td>\n",
       "      <td>0</td>\n",
       "      <td>0</td>\n",
       "      <td>1</td>\n",
       "      <td>0</td>\n",
       "      <td>0</td>\n",
       "    </tr>\n",
       "    <tr>\n",
       "      <td>9147925075</td>\n",
       "      <td>431</td>\n",
       "      <td>0</td>\n",
       "      <td>0</td>\n",
       "      <td>0</td>\n",
       "      <td>1</td>\n",
       "      <td>0</td>\n",
       "      <td>0</td>\n",
       "      <td>0</td>\n",
       "      <td>0</td>\n",
       "      <td>0</td>\n",
       "      <td>0</td>\n",
       "      <td>0</td>\n",
       "      <td>0</td>\n",
       "      <td>1</td>\n",
       "      <td>0</td>\n",
       "      <td>0</td>\n",
       "      <td>0</td>\n",
       "      <td>1</td>\n",
       "    </tr>\n",
       "  </tbody>\n",
       "</table>\n",
       "</div>"
      ],
      "text/plain": [
       "            session_time_prior_month_seconds  industry_healthcare  \\\n",
       "id                                                                  \n",
       "8721560330                               405                    1   \n",
       "5265684450                              4460                    0   \n",
       "7023768415                               289                    0   \n",
       "7733403428                              4242                    0   \n",
       "9147925075                               431                    0   \n",
       "\n",
       "            industry_marketing agency  industry_software  industry_unknown  \\\n",
       "id                                                                           \n",
       "8721560330                          0                  0                 0   \n",
       "5265684450                          0                  0                 1   \n",
       "7023768415                          1                  0                 0   \n",
       "7733403428                          0                  0                 1   \n",
       "9147925075                          0                  0                 1   \n",
       "\n",
       "            geography_America  geography_Canada  geography_France  \\\n",
       "id                                                                  \n",
       "8721560330                  1                 0                 0   \n",
       "5265684450                  0                 0                 0   \n",
       "7023768415                  0                 0                 0   \n",
       "7733403428                  1                 0                 0   \n",
       "9147925075                  0                 0                 0   \n",
       "\n",
       "            geography_Greece  geography_India  geography_Pakistan  \\\n",
       "id                                                                  \n",
       "8721560330                 0                0                   0   \n",
       "5265684450                 0                0                   0   \n",
       "7023768415                 0                0                   0   \n",
       "7733403428                 0                0                   0   \n",
       "9147925075                 0                0                   0   \n",
       "\n",
       "            geography_Spain  geography_UK  geography_US  \\\n",
       "id                                                        \n",
       "8721560330                0             0             0   \n",
       "5265684450                0             1             0   \n",
       "7023768415                1             0             0   \n",
       "7733403428                0             0             0   \n",
       "9147925075                0             0             1   \n",
       "\n",
       "            most_common_browser_Chrome  most_common_browser_Firefox  \\\n",
       "id                                                                    \n",
       "8721560330                           0                            0   \n",
       "5265684450                           0                            0   \n",
       "7023768415                           0                            1   \n",
       "7733403428                           0                            1   \n",
       "9147925075                           0                            0   \n",
       "\n",
       "            most_common_browser_IE  most_common_browser_Safari  \n",
       "id                                                              \n",
       "8721560330                       0                           1  \n",
       "5265684450                       1                           0  \n",
       "7023768415                       0                           0  \n",
       "7733403428                       0                           0  \n",
       "9147925075                       0                           1  "
      ]
     },
     "execution_count": 411,
     "metadata": {},
     "output_type": "execute_result"
    }
   ],
   "source": [
    "X.head()"
   ]
  },
  {
   "cell_type": "code",
   "execution_count": 412,
   "metadata": {},
   "outputs": [],
   "source": [
    "X_scaled = std_scale.fit_transform(X)"
   ]
  },
  {
   "cell_type": "code",
   "execution_count": 413,
   "metadata": {},
   "outputs": [
    {
     "data": {
      "text/html": [
       "<div>\n",
       "<style scoped>\n",
       "    .dataframe tbody tr th:only-of-type {\n",
       "        vertical-align: middle;\n",
       "    }\n",
       "\n",
       "    .dataframe tbody tr th {\n",
       "        vertical-align: top;\n",
       "    }\n",
       "\n",
       "    .dataframe thead th {\n",
       "        text-align: right;\n",
       "    }\n",
       "</style>\n",
       "<table border=\"1\" class=\"dataframe\">\n",
       "  <thead>\n",
       "    <tr style=\"text-align: right;\">\n",
       "      <th></th>\n",
       "      <th>0</th>\n",
       "      <th>1</th>\n",
       "      <th>2</th>\n",
       "      <th>3</th>\n",
       "      <th>4</th>\n",
       "      <th>5</th>\n",
       "      <th>6</th>\n",
       "      <th>7</th>\n",
       "      <th>8</th>\n",
       "      <th>9</th>\n",
       "      <th>10</th>\n",
       "      <th>11</th>\n",
       "      <th>12</th>\n",
       "      <th>13</th>\n",
       "      <th>14</th>\n",
       "      <th>15</th>\n",
       "      <th>16</th>\n",
       "      <th>17</th>\n",
       "    </tr>\n",
       "  </thead>\n",
       "  <tbody>\n",
       "    <tr>\n",
       "      <td>count</td>\n",
       "      <td>1.200000e+04</td>\n",
       "      <td>1.200000e+04</td>\n",
       "      <td>1.200000e+04</td>\n",
       "      <td>1.200000e+04</td>\n",
       "      <td>1.200000e+04</td>\n",
       "      <td>1.200000e+04</td>\n",
       "      <td>1.200000e+04</td>\n",
       "      <td>1.200000e+04</td>\n",
       "      <td>1.200000e+04</td>\n",
       "      <td>1.200000e+04</td>\n",
       "      <td>1.200000e+04</td>\n",
       "      <td>1.200000e+04</td>\n",
       "      <td>1.200000e+04</td>\n",
       "      <td>1.200000e+04</td>\n",
       "      <td>1.200000e+04</td>\n",
       "      <td>1.200000e+04</td>\n",
       "      <td>1.200000e+04</td>\n",
       "      <td>1.200000e+04</td>\n",
       "    </tr>\n",
       "    <tr>\n",
       "      <td>mean</td>\n",
       "      <td>1.893855e-17</td>\n",
       "      <td>-6.033692e-16</td>\n",
       "      <td>1.525446e-16</td>\n",
       "      <td>2.624660e-16</td>\n",
       "      <td>-5.737633e-16</td>\n",
       "      <td>6.573631e-16</td>\n",
       "      <td>2.153130e-15</td>\n",
       "      <td>-7.354164e-16</td>\n",
       "      <td>-7.025908e-16</td>\n",
       "      <td>-4.744399e-16</td>\n",
       "      <td>-1.853379e-17</td>\n",
       "      <td>1.017196e-15</td>\n",
       "      <td>5.439260e-16</td>\n",
       "      <td>1.120178e-15</td>\n",
       "      <td>-5.310012e-16</td>\n",
       "      <td>7.187306e-16</td>\n",
       "      <td>-4.002447e-16</td>\n",
       "      <td>-3.127313e-16</td>\n",
       "    </tr>\n",
       "    <tr>\n",
       "      <td>std</td>\n",
       "      <td>1.000042e+00</td>\n",
       "      <td>1.000042e+00</td>\n",
       "      <td>1.000042e+00</td>\n",
       "      <td>1.000042e+00</td>\n",
       "      <td>1.000042e+00</td>\n",
       "      <td>1.000042e+00</td>\n",
       "      <td>1.000042e+00</td>\n",
       "      <td>1.000042e+00</td>\n",
       "      <td>1.000042e+00</td>\n",
       "      <td>1.000042e+00</td>\n",
       "      <td>1.000042e+00</td>\n",
       "      <td>1.000042e+00</td>\n",
       "      <td>1.000042e+00</td>\n",
       "      <td>1.000042e+00</td>\n",
       "      <td>1.000042e+00</td>\n",
       "      <td>1.000042e+00</td>\n",
       "      <td>1.000042e+00</td>\n",
       "      <td>1.000042e+00</td>\n",
       "    </tr>\n",
       "    <tr>\n",
       "      <td>min</td>\n",
       "      <td>-7.662230e-01</td>\n",
       "      <td>-5.796597e-01</td>\n",
       "      <td>-7.745967e-01</td>\n",
       "      <td>-3.827013e-01</td>\n",
       "      <td>-5.708068e-01</td>\n",
       "      <td>-3.133642e-01</td>\n",
       "      <td>-5.180394e-01</td>\n",
       "      <td>-1.969293e-01</td>\n",
       "      <td>-1.944041e-01</td>\n",
       "      <td>-2.047877e-01</td>\n",
       "      <td>-2.023457e-01</td>\n",
       "      <td>-2.898462e-01</td>\n",
       "      <td>-3.552912e-01</td>\n",
       "      <td>-7.436370e-01</td>\n",
       "      <td>-1.003841e+00</td>\n",
       "      <td>-4.474819e-01</td>\n",
       "      <td>-4.449309e-01</td>\n",
       "      <td>-4.461399e-01</td>\n",
       "    </tr>\n",
       "    <tr>\n",
       "      <td>25%</td>\n",
       "      <td>-5.260758e-01</td>\n",
       "      <td>-5.796597e-01</td>\n",
       "      <td>-7.745967e-01</td>\n",
       "      <td>-3.827013e-01</td>\n",
       "      <td>-5.708068e-01</td>\n",
       "      <td>-3.133642e-01</td>\n",
       "      <td>-5.180394e-01</td>\n",
       "      <td>-1.969293e-01</td>\n",
       "      <td>-1.944041e-01</td>\n",
       "      <td>-2.047877e-01</td>\n",
       "      <td>-2.023457e-01</td>\n",
       "      <td>-2.898462e-01</td>\n",
       "      <td>-3.552912e-01</td>\n",
       "      <td>-7.436370e-01</td>\n",
       "      <td>-1.003841e+00</td>\n",
       "      <td>-4.474819e-01</td>\n",
       "      <td>-4.449309e-01</td>\n",
       "      <td>-4.461399e-01</td>\n",
       "    </tr>\n",
       "    <tr>\n",
       "      <td>50%</td>\n",
       "      <td>-3.318975e-01</td>\n",
       "      <td>-5.796597e-01</td>\n",
       "      <td>-7.745967e-01</td>\n",
       "      <td>-3.827013e-01</td>\n",
       "      <td>-5.708068e-01</td>\n",
       "      <td>-3.133642e-01</td>\n",
       "      <td>-5.180394e-01</td>\n",
       "      <td>-1.969293e-01</td>\n",
       "      <td>-1.944041e-01</td>\n",
       "      <td>-2.047877e-01</td>\n",
       "      <td>-2.023457e-01</td>\n",
       "      <td>-2.898462e-01</td>\n",
       "      <td>-3.552912e-01</td>\n",
       "      <td>-7.436370e-01</td>\n",
       "      <td>9.961740e-01</td>\n",
       "      <td>-4.474819e-01</td>\n",
       "      <td>-4.449309e-01</td>\n",
       "      <td>-4.461399e-01</td>\n",
       "    </tr>\n",
       "    <tr>\n",
       "      <td>75%</td>\n",
       "      <td>1.384898e-01</td>\n",
       "      <td>1.725150e+00</td>\n",
       "      <td>1.290994e+00</td>\n",
       "      <td>-3.827013e-01</td>\n",
       "      <td>-5.708068e-01</td>\n",
       "      <td>-3.133642e-01</td>\n",
       "      <td>-5.180394e-01</td>\n",
       "      <td>-1.969293e-01</td>\n",
       "      <td>-1.944041e-01</td>\n",
       "      <td>-2.047877e-01</td>\n",
       "      <td>-2.023457e-01</td>\n",
       "      <td>-2.898462e-01</td>\n",
       "      <td>-3.552912e-01</td>\n",
       "      <td>1.344742e+00</td>\n",
       "      <td>9.961740e-01</td>\n",
       "      <td>-4.474819e-01</td>\n",
       "      <td>-4.449309e-01</td>\n",
       "      <td>-4.461399e-01</td>\n",
       "    </tr>\n",
       "    <tr>\n",
       "      <td>max</td>\n",
       "      <td>1.334222e+01</td>\n",
       "      <td>1.725150e+00</td>\n",
       "      <td>1.290994e+00</td>\n",
       "      <td>2.613004e+00</td>\n",
       "      <td>1.751906e+00</td>\n",
       "      <td>3.191175e+00</td>\n",
       "      <td>1.930355e+00</td>\n",
       "      <td>5.077964e+00</td>\n",
       "      <td>5.143924e+00</td>\n",
       "      <td>4.883106e+00</td>\n",
       "      <td>4.942037e+00</td>\n",
       "      <td>3.450105e+00</td>\n",
       "      <td>2.814593e+00</td>\n",
       "      <td>1.344742e+00</td>\n",
       "      <td>9.961740e-01</td>\n",
       "      <td>2.234727e+00</td>\n",
       "      <td>2.247540e+00</td>\n",
       "      <td>2.241450e+00</td>\n",
       "    </tr>\n",
       "  </tbody>\n",
       "</table>\n",
       "</div>"
      ],
      "text/plain": [
       "                 0             1             2             3             4   \\\n",
       "count  1.200000e+04  1.200000e+04  1.200000e+04  1.200000e+04  1.200000e+04   \n",
       "mean   1.893855e-17 -6.033692e-16  1.525446e-16  2.624660e-16 -5.737633e-16   \n",
       "std    1.000042e+00  1.000042e+00  1.000042e+00  1.000042e+00  1.000042e+00   \n",
       "min   -7.662230e-01 -5.796597e-01 -7.745967e-01 -3.827013e-01 -5.708068e-01   \n",
       "25%   -5.260758e-01 -5.796597e-01 -7.745967e-01 -3.827013e-01 -5.708068e-01   \n",
       "50%   -3.318975e-01 -5.796597e-01 -7.745967e-01 -3.827013e-01 -5.708068e-01   \n",
       "75%    1.384898e-01  1.725150e+00  1.290994e+00 -3.827013e-01 -5.708068e-01   \n",
       "max    1.334222e+01  1.725150e+00  1.290994e+00  2.613004e+00  1.751906e+00   \n",
       "\n",
       "                 5             6             7             8             9   \\\n",
       "count  1.200000e+04  1.200000e+04  1.200000e+04  1.200000e+04  1.200000e+04   \n",
       "mean   6.573631e-16  2.153130e-15 -7.354164e-16 -7.025908e-16 -4.744399e-16   \n",
       "std    1.000042e+00  1.000042e+00  1.000042e+00  1.000042e+00  1.000042e+00   \n",
       "min   -3.133642e-01 -5.180394e-01 -1.969293e-01 -1.944041e-01 -2.047877e-01   \n",
       "25%   -3.133642e-01 -5.180394e-01 -1.969293e-01 -1.944041e-01 -2.047877e-01   \n",
       "50%   -3.133642e-01 -5.180394e-01 -1.969293e-01 -1.944041e-01 -2.047877e-01   \n",
       "75%   -3.133642e-01 -5.180394e-01 -1.969293e-01 -1.944041e-01 -2.047877e-01   \n",
       "max    3.191175e+00  1.930355e+00  5.077964e+00  5.143924e+00  4.883106e+00   \n",
       "\n",
       "                 10            11            12            13            14  \\\n",
       "count  1.200000e+04  1.200000e+04  1.200000e+04  1.200000e+04  1.200000e+04   \n",
       "mean  -1.853379e-17  1.017196e-15  5.439260e-16  1.120178e-15 -5.310012e-16   \n",
       "std    1.000042e+00  1.000042e+00  1.000042e+00  1.000042e+00  1.000042e+00   \n",
       "min   -2.023457e-01 -2.898462e-01 -3.552912e-01 -7.436370e-01 -1.003841e+00   \n",
       "25%   -2.023457e-01 -2.898462e-01 -3.552912e-01 -7.436370e-01 -1.003841e+00   \n",
       "50%   -2.023457e-01 -2.898462e-01 -3.552912e-01 -7.436370e-01  9.961740e-01   \n",
       "75%   -2.023457e-01 -2.898462e-01 -3.552912e-01  1.344742e+00  9.961740e-01   \n",
       "max    4.942037e+00  3.450105e+00  2.814593e+00  1.344742e+00  9.961740e-01   \n",
       "\n",
       "                 15            16            17  \n",
       "count  1.200000e+04  1.200000e+04  1.200000e+04  \n",
       "mean   7.187306e-16 -4.002447e-16 -3.127313e-16  \n",
       "std    1.000042e+00  1.000042e+00  1.000042e+00  \n",
       "min   -4.474819e-01 -4.449309e-01 -4.461399e-01  \n",
       "25%   -4.474819e-01 -4.449309e-01 -4.461399e-01  \n",
       "50%   -4.474819e-01 -4.449309e-01 -4.461399e-01  \n",
       "75%   -4.474819e-01 -4.449309e-01 -4.461399e-01  \n",
       "max    2.234727e+00  2.247540e+00  2.241450e+00  "
      ]
     },
     "execution_count": 413,
     "metadata": {},
     "output_type": "execute_result"
    }
   ],
   "source": [
    "pd.DataFrame(X_scaled).describe()"
   ]
  },
  {
   "cell_type": "code",
   "execution_count": 414,
   "metadata": {},
   "outputs": [
    {
     "data": {
      "text/plain": [
       "(12000, 18)"
      ]
     },
     "execution_count": 414,
     "metadata": {},
     "output_type": "execute_result"
    }
   ],
   "source": [
    "pd.DataFrame(X_scaled).shape"
   ]
  },
  {
   "cell_type": "markdown",
   "metadata": {},
   "source": [
    "### Below I will check Multicollinearity by calculating vif score and Normalize the input data.\n",
    "<br> They are not required to for linear regression to get a correct result.\n",
    "<br> Since we need to make inference on the parameters and we don't have a lot features and training data to work on. I will work on them\n"
   ]
  },
  {
   "cell_type": "code",
   "execution_count": 264,
   "metadata": {},
   "outputs": [],
   "source": [
    "from statsmodels.stats.outliers_influence import variance_inflation_factor    \n",
    "\n",
    "def calculate_vif_(X, thresh=5.0):\n",
    "    variables = list(range(X.shape[1]))\n",
    "    dropped = True\n",
    "    while dropped:\n",
    "        dropped = False\n",
    "        vif = [variance_inflation_factor(X.iloc[:, variables].values, ix)\n",
    "               for ix in range(X.iloc[:, variables].shape[1])]\n",
    "\n",
    "        maxloc = vif.index(max(vif))\n",
    "        if max(vif) > thresh:\n",
    "            print(max(vif))\n",
    "            print('dropping \\'' + X.iloc[:, variables].columns[maxloc] +\n",
    "                  '\\' at index: ' + str(maxloc))\n",
    "            del variables[maxloc]\n",
    "            dropped = True\n",
    "\n",
    "    print('Remaining variables:')\n",
    "    print(X.columns[variables])\n",
    "    return X.iloc[:, variables]"
   ]
  },
  {
   "cell_type": "code",
   "execution_count": 415,
   "metadata": {},
   "outputs": [
    {
     "data": {
      "text/html": [
       "<div>\n",
       "<style scoped>\n",
       "    .dataframe tbody tr th:only-of-type {\n",
       "        vertical-align: middle;\n",
       "    }\n",
       "\n",
       "    .dataframe tbody tr th {\n",
       "        vertical-align: top;\n",
       "    }\n",
       "\n",
       "    .dataframe thead th {\n",
       "        text-align: right;\n",
       "    }\n",
       "</style>\n",
       "<table border=\"1\" class=\"dataframe\">\n",
       "  <thead>\n",
       "    <tr style=\"text-align: right;\">\n",
       "      <th></th>\n",
       "      <th>session_time_prior_month_seconds</th>\n",
       "      <th>industry_healthcare</th>\n",
       "      <th>industry_marketing agency</th>\n",
       "      <th>industry_software</th>\n",
       "      <th>industry_unknown</th>\n",
       "      <th>geography_America</th>\n",
       "      <th>geography_Canada</th>\n",
       "      <th>geography_France</th>\n",
       "      <th>geography_Greece</th>\n",
       "      <th>geography_India</th>\n",
       "      <th>geography_Pakistan</th>\n",
       "      <th>geography_Spain</th>\n",
       "      <th>geography_UK</th>\n",
       "      <th>geography_US</th>\n",
       "      <th>most_common_browser_Chrome</th>\n",
       "      <th>most_common_browser_Firefox</th>\n",
       "      <th>most_common_browser_IE</th>\n",
       "      <th>most_common_browser_Safari</th>\n",
       "    </tr>\n",
       "  </thead>\n",
       "  <tbody>\n",
       "    <tr>\n",
       "      <td>0</td>\n",
       "      <td>-0.606125</td>\n",
       "      <td>1.72515</td>\n",
       "      <td>-0.774597</td>\n",
       "      <td>-0.382701</td>\n",
       "      <td>-0.570807</td>\n",
       "      <td>3.191175</td>\n",
       "      <td>-0.518039</td>\n",
       "      <td>-0.196929</td>\n",
       "      <td>-0.194404</td>\n",
       "      <td>-0.204788</td>\n",
       "      <td>-0.202346</td>\n",
       "      <td>-0.289846</td>\n",
       "      <td>-0.355291</td>\n",
       "      <td>-0.743637</td>\n",
       "      <td>-1.003841</td>\n",
       "      <td>-0.447482</td>\n",
       "      <td>-0.444931</td>\n",
       "      <td>2.24145</td>\n",
       "    </tr>\n",
       "    <tr>\n",
       "      <td>1</td>\n",
       "      <td>1.000800</td>\n",
       "      <td>-0.57966</td>\n",
       "      <td>-0.774597</td>\n",
       "      <td>-0.382701</td>\n",
       "      <td>1.751906</td>\n",
       "      <td>-0.313364</td>\n",
       "      <td>-0.518039</td>\n",
       "      <td>-0.196929</td>\n",
       "      <td>-0.194404</td>\n",
       "      <td>-0.204788</td>\n",
       "      <td>-0.202346</td>\n",
       "      <td>-0.289846</td>\n",
       "      <td>2.814593</td>\n",
       "      <td>-0.743637</td>\n",
       "      <td>-1.003841</td>\n",
       "      <td>-0.447482</td>\n",
       "      <td>2.247540</td>\n",
       "      <td>-0.44614</td>\n",
       "    </tr>\n",
       "    <tr>\n",
       "      <td>2</td>\n",
       "      <td>-0.652094</td>\n",
       "      <td>-0.57966</td>\n",
       "      <td>1.290994</td>\n",
       "      <td>-0.382701</td>\n",
       "      <td>-0.570807</td>\n",
       "      <td>-0.313364</td>\n",
       "      <td>-0.518039</td>\n",
       "      <td>-0.196929</td>\n",
       "      <td>-0.194404</td>\n",
       "      <td>-0.204788</td>\n",
       "      <td>-0.202346</td>\n",
       "      <td>3.450105</td>\n",
       "      <td>-0.355291</td>\n",
       "      <td>-0.743637</td>\n",
       "      <td>-1.003841</td>\n",
       "      <td>2.234727</td>\n",
       "      <td>-0.444931</td>\n",
       "      <td>-0.44614</td>\n",
       "    </tr>\n",
       "    <tr>\n",
       "      <td>3</td>\n",
       "      <td>0.914411</td>\n",
       "      <td>-0.57966</td>\n",
       "      <td>-0.774597</td>\n",
       "      <td>-0.382701</td>\n",
       "      <td>1.751906</td>\n",
       "      <td>3.191175</td>\n",
       "      <td>-0.518039</td>\n",
       "      <td>-0.196929</td>\n",
       "      <td>-0.194404</td>\n",
       "      <td>-0.204788</td>\n",
       "      <td>-0.202346</td>\n",
       "      <td>-0.289846</td>\n",
       "      <td>-0.355291</td>\n",
       "      <td>-0.743637</td>\n",
       "      <td>-1.003841</td>\n",
       "      <td>2.234727</td>\n",
       "      <td>-0.444931</td>\n",
       "      <td>-0.44614</td>\n",
       "    </tr>\n",
       "    <tr>\n",
       "      <td>4</td>\n",
       "      <td>-0.595822</td>\n",
       "      <td>-0.57966</td>\n",
       "      <td>-0.774597</td>\n",
       "      <td>-0.382701</td>\n",
       "      <td>1.751906</td>\n",
       "      <td>-0.313364</td>\n",
       "      <td>-0.518039</td>\n",
       "      <td>-0.196929</td>\n",
       "      <td>-0.194404</td>\n",
       "      <td>-0.204788</td>\n",
       "      <td>-0.202346</td>\n",
       "      <td>-0.289846</td>\n",
       "      <td>-0.355291</td>\n",
       "      <td>1.344742</td>\n",
       "      <td>-1.003841</td>\n",
       "      <td>-0.447482</td>\n",
       "      <td>-0.444931</td>\n",
       "      <td>2.24145</td>\n",
       "    </tr>\n",
       "  </tbody>\n",
       "</table>\n",
       "</div>"
      ],
      "text/plain": [
       "   session_time_prior_month_seconds  industry_healthcare  \\\n",
       "0                         -0.606125              1.72515   \n",
       "1                          1.000800             -0.57966   \n",
       "2                         -0.652094             -0.57966   \n",
       "3                          0.914411             -0.57966   \n",
       "4                         -0.595822             -0.57966   \n",
       "\n",
       "   industry_marketing agency  industry_software  industry_unknown  \\\n",
       "0                  -0.774597          -0.382701         -0.570807   \n",
       "1                  -0.774597          -0.382701          1.751906   \n",
       "2                   1.290994          -0.382701         -0.570807   \n",
       "3                  -0.774597          -0.382701          1.751906   \n",
       "4                  -0.774597          -0.382701          1.751906   \n",
       "\n",
       "   geography_America  geography_Canada  geography_France  geography_Greece  \\\n",
       "0           3.191175         -0.518039         -0.196929         -0.194404   \n",
       "1          -0.313364         -0.518039         -0.196929         -0.194404   \n",
       "2          -0.313364         -0.518039         -0.196929         -0.194404   \n",
       "3           3.191175         -0.518039         -0.196929         -0.194404   \n",
       "4          -0.313364         -0.518039         -0.196929         -0.194404   \n",
       "\n",
       "   geography_India  geography_Pakistan  geography_Spain  geography_UK  \\\n",
       "0        -0.204788           -0.202346        -0.289846     -0.355291   \n",
       "1        -0.204788           -0.202346        -0.289846      2.814593   \n",
       "2        -0.204788           -0.202346         3.450105     -0.355291   \n",
       "3        -0.204788           -0.202346        -0.289846     -0.355291   \n",
       "4        -0.204788           -0.202346        -0.289846     -0.355291   \n",
       "\n",
       "   geography_US  most_common_browser_Chrome  most_common_browser_Firefox  \\\n",
       "0     -0.743637                   -1.003841                    -0.447482   \n",
       "1     -0.743637                   -1.003841                    -0.447482   \n",
       "2     -0.743637                   -1.003841                     2.234727   \n",
       "3     -0.743637                   -1.003841                     2.234727   \n",
       "4      1.344742                   -1.003841                    -0.447482   \n",
       "\n",
       "   most_common_browser_IE  most_common_browser_Safari  \n",
       "0               -0.444931                     2.24145  \n",
       "1                2.247540                    -0.44614  \n",
       "2               -0.444931                    -0.44614  \n",
       "3               -0.444931                    -0.44614  \n",
       "4               -0.444931                     2.24145  "
      ]
     },
     "execution_count": 415,
     "metadata": {},
     "output_type": "execute_result"
    }
   ],
   "source": [
    "pd.DataFrame(X_scaled,columns=X.columns).head()"
   ]
  },
  {
   "cell_type": "code",
   "execution_count": 416,
   "metadata": {},
   "outputs": [
    {
     "name": "stderr",
     "output_type": "stream",
     "text": [
      "C:\\Users\\xiaoyal\\AppData\\Local\\Continuum\\anaconda3\\lib\\site-packages\\statsmodels\\stats\\outliers_influence.py:185: RuntimeWarning: divide by zero encountered in double_scalars\n",
      "  vif = 1. / (1. - r_squared_i)\n"
     ]
    },
    {
     "name": "stdout",
     "output_type": "stream",
     "text": [
      "inf\n",
      "dropping 'industry_healthcare' at index: 1\n",
      "inf\n",
      "dropping 'geography_America' at index: 4\n",
      "inf\n",
      "dropping 'most_common_browser_Chrome' at index: 12\n",
      "Remaining variables:\n",
      "Index(['session_time_prior_month_seconds', 'industry_marketing agency',\n",
      "       'industry_software', 'industry_unknown', 'geography_Canada',\n",
      "       'geography_France', 'geography_Greece', 'geography_India',\n",
      "       'geography_Pakistan', 'geography_Spain', 'geography_UK', 'geography_US',\n",
      "       'most_common_browser_Firefox', 'most_common_browser_IE',\n",
      "       'most_common_browser_Safari'],\n",
      "      dtype='object')\n"
     ]
    },
    {
     "data": {
      "text/html": [
       "<div>\n",
       "<style scoped>\n",
       "    .dataframe tbody tr th:only-of-type {\n",
       "        vertical-align: middle;\n",
       "    }\n",
       "\n",
       "    .dataframe tbody tr th {\n",
       "        vertical-align: top;\n",
       "    }\n",
       "\n",
       "    .dataframe thead th {\n",
       "        text-align: right;\n",
       "    }\n",
       "</style>\n",
       "<table border=\"1\" class=\"dataframe\">\n",
       "  <thead>\n",
       "    <tr style=\"text-align: right;\">\n",
       "      <th></th>\n",
       "      <th>session_time_prior_month_seconds</th>\n",
       "      <th>industry_marketing agency</th>\n",
       "      <th>industry_software</th>\n",
       "      <th>industry_unknown</th>\n",
       "      <th>geography_Canada</th>\n",
       "      <th>geography_France</th>\n",
       "      <th>geography_Greece</th>\n",
       "      <th>geography_India</th>\n",
       "      <th>geography_Pakistan</th>\n",
       "      <th>geography_Spain</th>\n",
       "      <th>geography_UK</th>\n",
       "      <th>geography_US</th>\n",
       "      <th>most_common_browser_Firefox</th>\n",
       "      <th>most_common_browser_IE</th>\n",
       "      <th>most_common_browser_Safari</th>\n",
       "    </tr>\n",
       "  </thead>\n",
       "  <tbody>\n",
       "    <tr>\n",
       "      <td>0</td>\n",
       "      <td>-0.606125</td>\n",
       "      <td>-0.774597</td>\n",
       "      <td>-0.382701</td>\n",
       "      <td>-0.570807</td>\n",
       "      <td>-0.518039</td>\n",
       "      <td>-0.196929</td>\n",
       "      <td>-0.194404</td>\n",
       "      <td>-0.204788</td>\n",
       "      <td>-0.202346</td>\n",
       "      <td>-0.289846</td>\n",
       "      <td>-0.355291</td>\n",
       "      <td>-0.743637</td>\n",
       "      <td>-0.447482</td>\n",
       "      <td>-0.444931</td>\n",
       "      <td>2.24145</td>\n",
       "    </tr>\n",
       "    <tr>\n",
       "      <td>1</td>\n",
       "      <td>1.000800</td>\n",
       "      <td>-0.774597</td>\n",
       "      <td>-0.382701</td>\n",
       "      <td>1.751906</td>\n",
       "      <td>-0.518039</td>\n",
       "      <td>-0.196929</td>\n",
       "      <td>-0.194404</td>\n",
       "      <td>-0.204788</td>\n",
       "      <td>-0.202346</td>\n",
       "      <td>-0.289846</td>\n",
       "      <td>2.814593</td>\n",
       "      <td>-0.743637</td>\n",
       "      <td>-0.447482</td>\n",
       "      <td>2.247540</td>\n",
       "      <td>-0.44614</td>\n",
       "    </tr>\n",
       "    <tr>\n",
       "      <td>2</td>\n",
       "      <td>-0.652094</td>\n",
       "      <td>1.290994</td>\n",
       "      <td>-0.382701</td>\n",
       "      <td>-0.570807</td>\n",
       "      <td>-0.518039</td>\n",
       "      <td>-0.196929</td>\n",
       "      <td>-0.194404</td>\n",
       "      <td>-0.204788</td>\n",
       "      <td>-0.202346</td>\n",
       "      <td>3.450105</td>\n",
       "      <td>-0.355291</td>\n",
       "      <td>-0.743637</td>\n",
       "      <td>2.234727</td>\n",
       "      <td>-0.444931</td>\n",
       "      <td>-0.44614</td>\n",
       "    </tr>\n",
       "    <tr>\n",
       "      <td>3</td>\n",
       "      <td>0.914411</td>\n",
       "      <td>-0.774597</td>\n",
       "      <td>-0.382701</td>\n",
       "      <td>1.751906</td>\n",
       "      <td>-0.518039</td>\n",
       "      <td>-0.196929</td>\n",
       "      <td>-0.194404</td>\n",
       "      <td>-0.204788</td>\n",
       "      <td>-0.202346</td>\n",
       "      <td>-0.289846</td>\n",
       "      <td>-0.355291</td>\n",
       "      <td>-0.743637</td>\n",
       "      <td>2.234727</td>\n",
       "      <td>-0.444931</td>\n",
       "      <td>-0.44614</td>\n",
       "    </tr>\n",
       "    <tr>\n",
       "      <td>4</td>\n",
       "      <td>-0.595822</td>\n",
       "      <td>-0.774597</td>\n",
       "      <td>-0.382701</td>\n",
       "      <td>1.751906</td>\n",
       "      <td>-0.518039</td>\n",
       "      <td>-0.196929</td>\n",
       "      <td>-0.194404</td>\n",
       "      <td>-0.204788</td>\n",
       "      <td>-0.202346</td>\n",
       "      <td>-0.289846</td>\n",
       "      <td>-0.355291</td>\n",
       "      <td>1.344742</td>\n",
       "      <td>-0.447482</td>\n",
       "      <td>-0.444931</td>\n",
       "      <td>2.24145</td>\n",
       "    </tr>\n",
       "    <tr>\n",
       "      <td>...</td>\n",
       "      <td>...</td>\n",
       "      <td>...</td>\n",
       "      <td>...</td>\n",
       "      <td>...</td>\n",
       "      <td>...</td>\n",
       "      <td>...</td>\n",
       "      <td>...</td>\n",
       "      <td>...</td>\n",
       "      <td>...</td>\n",
       "      <td>...</td>\n",
       "      <td>...</td>\n",
       "      <td>...</td>\n",
       "      <td>...</td>\n",
       "      <td>...</td>\n",
       "      <td>...</td>\n",
       "    </tr>\n",
       "    <tr>\n",
       "      <td>11995</td>\n",
       "      <td>-0.731746</td>\n",
       "      <td>-0.774597</td>\n",
       "      <td>-0.382701</td>\n",
       "      <td>1.751906</td>\n",
       "      <td>-0.518039</td>\n",
       "      <td>-0.196929</td>\n",
       "      <td>-0.194404</td>\n",
       "      <td>-0.204788</td>\n",
       "      <td>-0.202346</td>\n",
       "      <td>-0.289846</td>\n",
       "      <td>-0.355291</td>\n",
       "      <td>1.344742</td>\n",
       "      <td>-0.447482</td>\n",
       "      <td>-0.444931</td>\n",
       "      <td>-0.44614</td>\n",
       "    </tr>\n",
       "    <tr>\n",
       "      <td>11996</td>\n",
       "      <td>-0.675871</td>\n",
       "      <td>-0.774597</td>\n",
       "      <td>-0.382701</td>\n",
       "      <td>-0.570807</td>\n",
       "      <td>-0.518039</td>\n",
       "      <td>-0.196929</td>\n",
       "      <td>-0.194404</td>\n",
       "      <td>-0.204788</td>\n",
       "      <td>-0.202346</td>\n",
       "      <td>-0.289846</td>\n",
       "      <td>-0.355291</td>\n",
       "      <td>1.344742</td>\n",
       "      <td>2.234727</td>\n",
       "      <td>-0.444931</td>\n",
       "      <td>-0.44614</td>\n",
       "    </tr>\n",
       "    <tr>\n",
       "      <td>11997</td>\n",
       "      <td>-0.275625</td>\n",
       "      <td>-0.774597</td>\n",
       "      <td>-0.382701</td>\n",
       "      <td>-0.570807</td>\n",
       "      <td>-0.518039</td>\n",
       "      <td>-0.196929</td>\n",
       "      <td>-0.194404</td>\n",
       "      <td>-0.204788</td>\n",
       "      <td>-0.202346</td>\n",
       "      <td>-0.289846</td>\n",
       "      <td>-0.355291</td>\n",
       "      <td>1.344742</td>\n",
       "      <td>-0.447482</td>\n",
       "      <td>-0.444931</td>\n",
       "      <td>-0.44614</td>\n",
       "    </tr>\n",
       "    <tr>\n",
       "      <td>11998</td>\n",
       "      <td>-0.111168</td>\n",
       "      <td>-0.774597</td>\n",
       "      <td>-0.382701</td>\n",
       "      <td>-0.570807</td>\n",
       "      <td>-0.518039</td>\n",
       "      <td>-0.196929</td>\n",
       "      <td>-0.194404</td>\n",
       "      <td>-0.204788</td>\n",
       "      <td>4.942037</td>\n",
       "      <td>-0.289846</td>\n",
       "      <td>-0.355291</td>\n",
       "      <td>-0.743637</td>\n",
       "      <td>-0.447482</td>\n",
       "      <td>-0.444931</td>\n",
       "      <td>-0.44614</td>\n",
       "    </tr>\n",
       "    <tr>\n",
       "      <td>11999</td>\n",
       "      <td>0.268867</td>\n",
       "      <td>-0.774597</td>\n",
       "      <td>-0.382701</td>\n",
       "      <td>-0.570807</td>\n",
       "      <td>1.930355</td>\n",
       "      <td>-0.196929</td>\n",
       "      <td>-0.194404</td>\n",
       "      <td>-0.204788</td>\n",
       "      <td>-0.202346</td>\n",
       "      <td>-0.289846</td>\n",
       "      <td>-0.355291</td>\n",
       "      <td>-0.743637</td>\n",
       "      <td>-0.447482</td>\n",
       "      <td>-0.444931</td>\n",
       "      <td>-0.44614</td>\n",
       "    </tr>\n",
       "  </tbody>\n",
       "</table>\n",
       "<p>12000 rows × 15 columns</p>\n",
       "</div>"
      ],
      "text/plain": [
       "       session_time_prior_month_seconds  industry_marketing agency  \\\n",
       "0                             -0.606125                  -0.774597   \n",
       "1                              1.000800                  -0.774597   \n",
       "2                             -0.652094                   1.290994   \n",
       "3                              0.914411                  -0.774597   \n",
       "4                             -0.595822                  -0.774597   \n",
       "...                                 ...                        ...   \n",
       "11995                         -0.731746                  -0.774597   \n",
       "11996                         -0.675871                  -0.774597   \n",
       "11997                         -0.275625                  -0.774597   \n",
       "11998                         -0.111168                  -0.774597   \n",
       "11999                          0.268867                  -0.774597   \n",
       "\n",
       "       industry_software  industry_unknown  geography_Canada  \\\n",
       "0              -0.382701         -0.570807         -0.518039   \n",
       "1              -0.382701          1.751906         -0.518039   \n",
       "2              -0.382701         -0.570807         -0.518039   \n",
       "3              -0.382701          1.751906         -0.518039   \n",
       "4              -0.382701          1.751906         -0.518039   \n",
       "...                  ...               ...               ...   \n",
       "11995          -0.382701          1.751906         -0.518039   \n",
       "11996          -0.382701         -0.570807         -0.518039   \n",
       "11997          -0.382701         -0.570807         -0.518039   \n",
       "11998          -0.382701         -0.570807         -0.518039   \n",
       "11999          -0.382701         -0.570807          1.930355   \n",
       "\n",
       "       geography_France  geography_Greece  geography_India  \\\n",
       "0             -0.196929         -0.194404        -0.204788   \n",
       "1             -0.196929         -0.194404        -0.204788   \n",
       "2             -0.196929         -0.194404        -0.204788   \n",
       "3             -0.196929         -0.194404        -0.204788   \n",
       "4             -0.196929         -0.194404        -0.204788   \n",
       "...                 ...               ...              ...   \n",
       "11995         -0.196929         -0.194404        -0.204788   \n",
       "11996         -0.196929         -0.194404        -0.204788   \n",
       "11997         -0.196929         -0.194404        -0.204788   \n",
       "11998         -0.196929         -0.194404        -0.204788   \n",
       "11999         -0.196929         -0.194404        -0.204788   \n",
       "\n",
       "       geography_Pakistan  geography_Spain  geography_UK  geography_US  \\\n",
       "0               -0.202346        -0.289846     -0.355291     -0.743637   \n",
       "1               -0.202346        -0.289846      2.814593     -0.743637   \n",
       "2               -0.202346         3.450105     -0.355291     -0.743637   \n",
       "3               -0.202346        -0.289846     -0.355291     -0.743637   \n",
       "4               -0.202346        -0.289846     -0.355291      1.344742   \n",
       "...                   ...              ...           ...           ...   \n",
       "11995           -0.202346        -0.289846     -0.355291      1.344742   \n",
       "11996           -0.202346        -0.289846     -0.355291      1.344742   \n",
       "11997           -0.202346        -0.289846     -0.355291      1.344742   \n",
       "11998            4.942037        -0.289846     -0.355291     -0.743637   \n",
       "11999           -0.202346        -0.289846     -0.355291     -0.743637   \n",
       "\n",
       "       most_common_browser_Firefox  most_common_browser_IE  \\\n",
       "0                        -0.447482               -0.444931   \n",
       "1                        -0.447482                2.247540   \n",
       "2                         2.234727               -0.444931   \n",
       "3                         2.234727               -0.444931   \n",
       "4                        -0.447482               -0.444931   \n",
       "...                            ...                     ...   \n",
       "11995                    -0.447482               -0.444931   \n",
       "11996                     2.234727               -0.444931   \n",
       "11997                    -0.447482               -0.444931   \n",
       "11998                    -0.447482               -0.444931   \n",
       "11999                    -0.447482               -0.444931   \n",
       "\n",
       "       most_common_browser_Safari  \n",
       "0                         2.24145  \n",
       "1                        -0.44614  \n",
       "2                        -0.44614  \n",
       "3                        -0.44614  \n",
       "4                         2.24145  \n",
       "...                           ...  \n",
       "11995                    -0.44614  \n",
       "11996                    -0.44614  \n",
       "11997                    -0.44614  \n",
       "11998                    -0.44614  \n",
       "11999                    -0.44614  \n",
       "\n",
       "[12000 rows x 15 columns]"
      ]
     },
     "execution_count": 416,
     "metadata": {},
     "output_type": "execute_result"
    }
   ],
   "source": [
    "calculate_vif_(pd.DataFrame(X_scaled,columns=X.columns),10)"
   ]
  },
  {
   "cell_type": "code",
   "execution_count": 267,
   "metadata": {},
   "outputs": [
    {
     "data": {
      "text/plain": [
       "Index(['session_time_prior_month_seconds', 'pay_per_sec',\n",
       "       'industry_healthcare', 'industry_marketing agency', 'industry_software',\n",
       "       'industry_unknown', 'geography_America', 'geography_Canada',\n",
       "       'geography_France', 'geography_Greece', 'geography_India',\n",
       "       'geography_Pakistan', 'geography_Spain', 'geography_UK', 'geography_US',\n",
       "       'most_common_browser_Chrome', 'most_common_browser_Firefox',\n",
       "       'most_common_browser_IE', 'most_common_browser_Safari'],\n",
       "      dtype='object')"
      ]
     },
     "execution_count": 267,
     "metadata": {},
     "output_type": "execute_result"
    }
   ],
   "source": [
    "X.columns"
   ]
  },
  {
   "cell_type": "markdown",
   "metadata": {},
   "source": [
    "#### from above result, we can see geography_America is deteled. this could due to America is same as USA. since we don't have alot of training features, i'll drop two of three above."
   ]
  },
  {
   "cell_type": "code",
   "execution_count": 418,
   "metadata": {},
   "outputs": [
    {
     "data": {
      "text/plain": [
       "(12000, 16)"
      ]
     },
     "execution_count": 418,
     "metadata": {},
     "output_type": "execute_result"
    }
   ],
   "source": [
    "final_x = pd.DataFrame(X_scaled,columns=X.columns).drop(['industry_healthcare','geography_America'],axis=1)\n",
    "final_x.shape"
   ]
  },
  {
   "cell_type": "code",
   "execution_count": 419,
   "metadata": {},
   "outputs": [
    {
     "data": {
      "text/plain": [
       "(12000,)"
      ]
     },
     "execution_count": 419,
     "metadata": {},
     "output_type": "execute_result"
    }
   ],
   "source": [
    "y.shape"
   ]
  },
  {
   "cell_type": "markdown",
   "metadata": {},
   "source": [
    "#### train test split, here i use 80%:20% "
   ]
  },
  {
   "cell_type": "code",
   "execution_count": 420,
   "metadata": {},
   "outputs": [
    {
     "data": {
      "text/plain": [
       "0    94.086123\n",
       "1    44.434942\n",
       "2    53.311472\n",
       "3    98.500425\n",
       "4    76.246123\n",
       "Name: prior_month_paid, dtype: float64"
      ]
     },
     "execution_count": 420,
     "metadata": {},
     "output_type": "execute_result"
    }
   ],
   "source": [
    "y.head()"
   ]
  },
  {
   "cell_type": "code",
   "execution_count": 421,
   "metadata": {},
   "outputs": [],
   "source": [
    "X_train, X_val, y_train, y_val = train_test_split(final_x, y, test_size=0.2, random_state=1)\n"
   ]
  },
  {
   "cell_type": "markdown",
   "metadata": {},
   "source": [
    "#### model selection"
   ]
  },
  {
   "cell_type": "code",
   "execution_count": 422,
   "metadata": {},
   "outputs": [],
   "source": [
    "\n",
    "n_folds = 5\n",
    "\n",
    "def mae_cv(model):\n",
    "    kf = KFold(n_folds, shuffle=True, random_state=42).get_n_splits(X_train.values)\n",
    "    mae= np.mean(cross_val_score(model, X_train.values, y_train, scoring = 'r2',cv = kf))\n",
    "    return(mae)"
   ]
  },
  {
   "cell_type": "code",
   "execution_count": 423,
   "metadata": {},
   "outputs": [],
   "source": [
    "regr = ElasticNet(random_state=0,alpha=0.05)\n",
    "lasso = Lasso(random_state=0,alpha=0.05)\n",
    "# regr.fit(X_train, y_train)\n",
    "# print(regr.coef_)\n",
    "# print(regr.intercept_)"
   ]
  },
  {
   "cell_type": "code",
   "execution_count": 424,
   "metadata": {},
   "outputs": [
    {
     "name": "stdout",
     "output_type": "stream",
     "text": [
      "\n",
      "Lasso score: 0.9658\n",
      "\n",
      "ElasticNet score: 0.9629 \n",
      "\n"
     ]
    }
   ],
   "source": [
    "#y_train = df['target.sale_price']\n",
    "\n",
    "score = mae_cv(lasso)\n",
    "print(\"\\nLasso score: {:.4f}\".format(score.mean()))\n",
    "score = mae_cv(regr)\n",
    "print(\"\\nElasticNet score: {:.4f} \\n\".format(score.mean()))"
   ]
  },
  {
   "cell_type": "markdown",
   "metadata": {},
   "source": [
    "#### We will choose Lasso as the model for hyper parameter tuning"
   ]
  },
  {
   "cell_type": "code",
   "execution_count": 426,
   "metadata": {},
   "outputs": [],
   "source": [
    "parameters = {\"alpha\": [ 0.01, 0.1, 1, 10, 100]}\n",
    "\n",
    "# use grid rearch method to tune the hyper parameters\n",
    "cv = GridSearchCV(lasso, parameters, scoring = 'r2', n_jobs= -1)\n",
    "\n",
    "grid_fit = cv.fit(X_train, y_train)\n"
   ]
  },
  {
   "cell_type": "code",
   "execution_count": 461,
   "metadata": {},
   "outputs": [
    {
     "name": "stderr",
     "output_type": "stream",
     "text": [
      "C:\\Users\\xiaoyal\\AppData\\Local\\Continuum\\anaconda3\\lib\\site-packages\\sklearn\\model_selection\\_split.py:1978: FutureWarning: The default value of cv will change from 3 to 5 in version 0.22. Specify it explicitly to silence this warning.\n",
      "  warnings.warn(CV_WARNING, FutureWarning)\n"
     ]
    }
   ],
   "source": [
    "parameters = {\"alpha\": [ 0.01, 0.1, 1, 10, 100]}\n",
    "\n",
    "# use grid rearch method to tune the hyper parameters\n",
    "cv = GridSearchCV(regr, parameters, scoring = 'r2', n_jobs= -1)\n",
    "\n",
    "els = cv.fit(X_train, y_train)\n"
   ]
  },
  {
   "cell_type": "code",
   "execution_count": 427,
   "metadata": {},
   "outputs": [],
   "source": [
    "best_model = grid_fit.best_estimator_\n",
    "best_predictions = best_model.predict(X_val)\n"
   ]
  },
  {
   "cell_type": "code",
   "execution_count": 428,
   "metadata": {},
   "outputs": [
    {
     "data": {
      "text/plain": [
       "{'alpha': 0.01}"
      ]
     },
     "execution_count": 428,
     "metadata": {},
     "output_type": "execute_result"
    }
   ],
   "source": [
    "grid_fit.best_params_"
   ]
  },
  {
   "cell_type": "code",
   "execution_count": 429,
   "metadata": {},
   "outputs": [
    {
     "data": {
      "text/plain": [
       "array([  7.31722232,  12.19505454,  -0.88066903,  -8.6104218 ,\n",
       "        -6.20386568, -11.46968264, -11.17713612, -11.86371452,\n",
       "       -11.61768283, -16.0110217 , -17.30604314,   0.        ,\n",
       "         0.        ,   0.03305004,  -0.06181945,  -0.09513508])"
      ]
     },
     "execution_count": 429,
     "metadata": {},
     "output_type": "execute_result"
    }
   ],
   "source": [
    "best_model.coef_"
   ]
  },
  {
   "cell_type": "code",
   "execution_count": 430,
   "metadata": {},
   "outputs": [
    {
     "data": {
      "text/plain": [
       "16"
      ]
     },
     "execution_count": 430,
     "metadata": {},
     "output_type": "execute_result"
    }
   ],
   "source": [
    "len(best_model.coef_)"
   ]
  },
  {
   "cell_type": "code",
   "execution_count": 431,
   "metadata": {},
   "outputs": [
    {
     "data": {
      "text/plain": [
       "Index(['session_time_prior_month_seconds', 'industry_marketing agency',\n",
       "       'industry_software', 'industry_unknown', 'geography_Canada',\n",
       "       'geography_France', 'geography_Greece', 'geography_India',\n",
       "       'geography_Pakistan', 'geography_Spain', 'geography_UK', 'geography_US',\n",
       "       'most_common_browser_Chrome', 'most_common_browser_Firefox',\n",
       "       'most_common_browser_IE', 'most_common_browser_Safari'],\n",
       "      dtype='object')"
      ]
     },
     "execution_count": 431,
     "metadata": {},
     "output_type": "execute_result"
    }
   ],
   "source": [
    "X_train.columns"
   ]
  },
  {
   "cell_type": "code",
   "execution_count": 432,
   "metadata": {},
   "outputs": [
    {
     "data": {
      "text/html": [
       "<div>\n",
       "<style scoped>\n",
       "    .dataframe tbody tr th:only-of-type {\n",
       "        vertical-align: middle;\n",
       "    }\n",
       "\n",
       "    .dataframe tbody tr th {\n",
       "        vertical-align: top;\n",
       "    }\n",
       "\n",
       "    .dataframe thead th {\n",
       "        text-align: right;\n",
       "    }\n",
       "</style>\n",
       "<table border=\"1\" class=\"dataframe\">\n",
       "  <thead>\n",
       "    <tr style=\"text-align: right;\">\n",
       "      <th></th>\n",
       "      <th>val</th>\n",
       "    </tr>\n",
       "  </thead>\n",
       "  <tbody>\n",
       "    <tr>\n",
       "      <td>geography_UK</td>\n",
       "      <td>17.306043</td>\n",
       "    </tr>\n",
       "    <tr>\n",
       "      <td>geography_Spain</td>\n",
       "      <td>16.011022</td>\n",
       "    </tr>\n",
       "    <tr>\n",
       "      <td>industry_marketing agency</td>\n",
       "      <td>12.195055</td>\n",
       "    </tr>\n",
       "    <tr>\n",
       "      <td>geography_India</td>\n",
       "      <td>11.863715</td>\n",
       "    </tr>\n",
       "    <tr>\n",
       "      <td>geography_Pakistan</td>\n",
       "      <td>11.617683</td>\n",
       "    </tr>\n",
       "    <tr>\n",
       "      <td>geography_France</td>\n",
       "      <td>11.469683</td>\n",
       "    </tr>\n",
       "    <tr>\n",
       "      <td>geography_Greece</td>\n",
       "      <td>11.177136</td>\n",
       "    </tr>\n",
       "    <tr>\n",
       "      <td>industry_unknown</td>\n",
       "      <td>8.610422</td>\n",
       "    </tr>\n",
       "    <tr>\n",
       "      <td>session_time_prior_month_seconds</td>\n",
       "      <td>7.317222</td>\n",
       "    </tr>\n",
       "    <tr>\n",
       "      <td>geography_Canada</td>\n",
       "      <td>6.203866</td>\n",
       "    </tr>\n",
       "    <tr>\n",
       "      <td>industry_software</td>\n",
       "      <td>0.880669</td>\n",
       "    </tr>\n",
       "    <tr>\n",
       "      <td>most_common_browser_Safari</td>\n",
       "      <td>0.095135</td>\n",
       "    </tr>\n",
       "    <tr>\n",
       "      <td>most_common_browser_IE</td>\n",
       "      <td>0.061819</td>\n",
       "    </tr>\n",
       "    <tr>\n",
       "      <td>most_common_browser_Firefox</td>\n",
       "      <td>0.033050</td>\n",
       "    </tr>\n",
       "    <tr>\n",
       "      <td>geography_US</td>\n",
       "      <td>0.000000</td>\n",
       "    </tr>\n",
       "    <tr>\n",
       "      <td>most_common_browser_Chrome</td>\n",
       "      <td>0.000000</td>\n",
       "    </tr>\n",
       "  </tbody>\n",
       "</table>\n",
       "</div>"
      ],
      "text/plain": [
       "                                        val\n",
       "geography_UK                      17.306043\n",
       "geography_Spain                   16.011022\n",
       "industry_marketing agency         12.195055\n",
       "geography_India                   11.863715\n",
       "geography_Pakistan                11.617683\n",
       "geography_France                  11.469683\n",
       "geography_Greece                  11.177136\n",
       "industry_unknown                   8.610422\n",
       "session_time_prior_month_seconds   7.317222\n",
       "geography_Canada                   6.203866\n",
       "industry_software                  0.880669\n",
       "most_common_browser_Safari         0.095135\n",
       "most_common_browser_IE             0.061819\n",
       "most_common_browser_Firefox        0.033050\n",
       "geography_US                       0.000000\n",
       "most_common_browser_Chrome         0.000000"
      ]
     },
     "execution_count": 432,
     "metadata": {},
     "output_type": "execute_result"
    }
   ],
   "source": [
    "coef_result = pd.DataFrame(abs(best_model.coef_),index=X_train.columns)\n",
    "coef_result.columns=['val']\n",
    "coef_result.sort_values('val',ascending=False)"
   ]
  },
  {
   "cell_type": "markdown",
   "metadata": {},
   "source": [
    "### Question 3 Please provide an inferential interpretation of the results of your regression model"
   ]
  },
  {
   "cell_type": "markdown",
   "metadata": {},
   "source": [
    "1. As mentioned earlier, we've standarized features in the preprossing, so we can use the abs value of the coefficient to measure the importance of the features.\n",
    "2. Geography data has a very high impact on dependant variable. Which kinda makes sense as different region would have a different experience on the service and the company could also have different products, promotions on different market.<br>\n",
    "3. Marketing Agency is also very high, as most of the customer who use Moz products are from that industry.\n",
    "4. Browsers have very low importance on the dependant variable <br>\n",
    "5. Lass helps to remove two variables, one of those is actually detected for calculating VIF score. We could've removed it ealier to safe training time. \n",
    "6. It would be nice to have p values and confidence intervals on certain parameters. But unformately Sklean doesn't provide those. It's something to consider when choosing training libraries."
   ]
  },
  {
   "cell_type": "markdown",
   "metadata": {},
   "source": [
    "### Question 4 Please run your model against the training data set, and describe it’s performance.\n",
    "I assume this was asking for test against testing data"
   ]
  },
  {
   "cell_type": "code",
   "execution_count": 440,
   "metadata": {
    "scrolled": true
   },
   "outputs": [],
   "source": [
    "test_process = test.drop(['id','prior_month_paid'],axis=1)\n",
    "y_test = test.prior_month_paid"
   ]
  },
  {
   "cell_type": "code",
   "execution_count": 441,
   "metadata": {},
   "outputs": [],
   "source": [
    "test_process.loc[test_process.industry.isna(),'industry'] = 'unknown'"
   ]
  },
  {
   "cell_type": "code",
   "execution_count": 442,
   "metadata": {},
   "outputs": [],
   "source": [
    "test_process.loc[test_process.industry=='unk','industry'] = 'unknown'"
   ]
  },
  {
   "cell_type": "code",
   "execution_count": 443,
   "metadata": {},
   "outputs": [],
   "source": [
    "test_process.industry = test_process.industry.apply(lambda x:industry_dic[x] if x in industry_dic else x)"
   ]
  },
  {
   "cell_type": "code",
   "execution_count": 444,
   "metadata": {},
   "outputs": [],
   "source": [
    "country_dic['America'] = 'US'\n",
    "test_process.geography = test_process.geography.apply(lambda x:country_dic[x] if x in country_dic else x)"
   ]
  },
  {
   "cell_type": "code",
   "execution_count": 445,
   "metadata": {},
   "outputs": [
    {
     "data": {
      "text/plain": [
       "marketing agency    18095\n",
       "unknown             12063\n",
       "healthcare          11963\n",
       "software             5879\n",
       "Name: industry, dtype: int64"
      ]
     },
     "execution_count": 445,
     "metadata": {},
     "output_type": "execute_result"
    }
   ],
   "source": [
    "test_process.industry.value_counts()"
   ]
  },
  {
   "cell_type": "code",
   "execution_count": 446,
   "metadata": {},
   "outputs": [
    {
     "data": {
      "text/plain": [
       "US          21457\n",
       "Canada      10709\n",
       "UK           5260\n",
       "Spain        3483\n",
       "Pakistan     1797\n",
       "Greece       1782\n",
       "India        1773\n",
       "France       1739\n",
       "Name: geography, dtype: int64"
      ]
     },
     "execution_count": 446,
     "metadata": {},
     "output_type": "execute_result"
    }
   ],
   "source": [
    "test_process.geography.value_counts()"
   ]
  },
  {
   "cell_type": "code",
   "execution_count": 447,
   "metadata": {},
   "outputs": [
    {
     "data": {
      "text/html": [
       "<div>\n",
       "<style scoped>\n",
       "    .dataframe tbody tr th:only-of-type {\n",
       "        vertical-align: middle;\n",
       "    }\n",
       "\n",
       "    .dataframe tbody tr th {\n",
       "        vertical-align: top;\n",
       "    }\n",
       "\n",
       "    .dataframe thead th {\n",
       "        text-align: right;\n",
       "    }\n",
       "</style>\n",
       "<table border=\"1\" class=\"dataframe\">\n",
       "  <thead>\n",
       "    <tr style=\"text-align: right;\">\n",
       "      <th></th>\n",
       "      <th>session_time_prior_month_seconds</th>\n",
       "    </tr>\n",
       "  </thead>\n",
       "  <tbody>\n",
       "    <tr>\n",
       "      <td>count</td>\n",
       "      <td>48000.000000</td>\n",
       "    </tr>\n",
       "    <tr>\n",
       "      <td>mean</td>\n",
       "      <td>1952.151854</td>\n",
       "    </tr>\n",
       "    <tr>\n",
       "      <td>std</td>\n",
       "      <td>2579.835645</td>\n",
       "    </tr>\n",
       "    <tr>\n",
       "      <td>min</td>\n",
       "      <td>1.000000</td>\n",
       "    </tr>\n",
       "    <tr>\n",
       "      <td>25%</td>\n",
       "      <td>612.000000</td>\n",
       "    </tr>\n",
       "    <tr>\n",
       "      <td>50%</td>\n",
       "      <td>1210.000000</td>\n",
       "    </tr>\n",
       "    <tr>\n",
       "      <td>75%</td>\n",
       "      <td>2289.000000</td>\n",
       "    </tr>\n",
       "    <tr>\n",
       "      <td>max</td>\n",
       "      <td>50233.000000</td>\n",
       "    </tr>\n",
       "  </tbody>\n",
       "</table>\n",
       "</div>"
      ],
      "text/plain": [
       "       session_time_prior_month_seconds\n",
       "count                      48000.000000\n",
       "mean                        1952.151854\n",
       "std                         2579.835645\n",
       "min                            1.000000\n",
       "25%                          612.000000\n",
       "50%                         1210.000000\n",
       "75%                         2289.000000\n",
       "max                        50233.000000"
      ]
     },
     "execution_count": 447,
     "metadata": {},
     "output_type": "execute_result"
    }
   ],
   "source": [
    "test_process.describe()"
   ]
  },
  {
   "cell_type": "code",
   "execution_count": 448,
   "metadata": {},
   "outputs": [
    {
     "data": {
      "text/plain": [
       "industry                            False\n",
       "geography                           False\n",
       "most_common_browser                 False\n",
       "session_time_prior_month_seconds    False\n",
       "dtype: bool"
      ]
     },
     "execution_count": 448,
     "metadata": {},
     "output_type": "execute_result"
    }
   ],
   "source": [
    "test_process.isna().any()"
   ]
  },
  {
   "cell_type": "code",
   "execution_count": 449,
   "metadata": {},
   "outputs": [],
   "source": [
    "test_process_dum = pd.get_dummies(test_process)"
   ]
  },
  {
   "cell_type": "code",
   "execution_count": 450,
   "metadata": {},
   "outputs": [],
   "source": [
    "test_process_dum.drop('industry_healthcare',axis=1,inplace = True)"
   ]
  },
  {
   "cell_type": "code",
   "execution_count": 451,
   "metadata": {},
   "outputs": [
    {
     "data": {
      "text/plain": [
       "16"
      ]
     },
     "execution_count": 451,
     "metadata": {},
     "output_type": "execute_result"
    }
   ],
   "source": [
    "len(test_process_dum.columns)"
   ]
  },
  {
   "cell_type": "code",
   "execution_count": 452,
   "metadata": {},
   "outputs": [],
   "source": [
    "test_scaled = std_scale.fit_transform(test_process_dum)"
   ]
  },
  {
   "cell_type": "code",
   "execution_count": 453,
   "metadata": {},
   "outputs": [],
   "source": [
    "test_result = best_model.predict(test_scaled)"
   ]
  },
  {
   "cell_type": "code",
   "execution_count": 463,
   "metadata": {},
   "outputs": [],
   "source": [
    "t2 = els.best_estimator_.predict(test_scaled)"
   ]
  },
  {
   "cell_type": "code",
   "execution_count": 462,
   "metadata": {},
   "outputs": [
    {
     "data": {
      "text/plain": [
       "(48000, 16)"
      ]
     },
     "execution_count": 462,
     "metadata": {},
     "output_type": "execute_result"
    }
   ],
   "source": [
    "test_scaled.shape"
   ]
  },
  {
   "cell_type": "code",
   "execution_count": 455,
   "metadata": {},
   "outputs": [
    {
     "data": {
      "text/html": [
       "<div>\n",
       "<style scoped>\n",
       "    .dataframe tbody tr th:only-of-type {\n",
       "        vertical-align: middle;\n",
       "    }\n",
       "\n",
       "    .dataframe tbody tr th {\n",
       "        vertical-align: top;\n",
       "    }\n",
       "\n",
       "    .dataframe thead th {\n",
       "        text-align: right;\n",
       "    }\n",
       "</style>\n",
       "<table border=\"1\" class=\"dataframe\">\n",
       "  <thead>\n",
       "    <tr style=\"text-align: right;\">\n",
       "      <th></th>\n",
       "      <th>session_time_prior_month_seconds</th>\n",
       "      <th>industry_marketing agency</th>\n",
       "      <th>industry_software</th>\n",
       "      <th>industry_unknown</th>\n",
       "      <th>geography_Canada</th>\n",
       "      <th>geography_France</th>\n",
       "      <th>geography_Greece</th>\n",
       "      <th>geography_India</th>\n",
       "      <th>geography_Pakistan</th>\n",
       "      <th>geography_Spain</th>\n",
       "      <th>geography_UK</th>\n",
       "      <th>geography_US</th>\n",
       "      <th>most_common_browser_Chrome</th>\n",
       "      <th>most_common_browser_Firefox</th>\n",
       "      <th>most_common_browser_IE</th>\n",
       "      <th>most_common_browser_Safari</th>\n",
       "    </tr>\n",
       "  </thead>\n",
       "  <tbody>\n",
       "    <tr>\n",
       "      <td>count</td>\n",
       "      <td>4.800000e+04</td>\n",
       "      <td>4.800000e+04</td>\n",
       "      <td>4.800000e+04</td>\n",
       "      <td>4.800000e+04</td>\n",
       "      <td>4.800000e+04</td>\n",
       "      <td>4.800000e+04</td>\n",
       "      <td>4.800000e+04</td>\n",
       "      <td>4.800000e+04</td>\n",
       "      <td>4.800000e+04</td>\n",
       "      <td>4.800000e+04</td>\n",
       "      <td>4.800000e+04</td>\n",
       "      <td>4.800000e+04</td>\n",
       "      <td>4.800000e+04</td>\n",
       "      <td>4.800000e+04</td>\n",
       "      <td>4.800000e+04</td>\n",
       "      <td>4.800000e+04</td>\n",
       "    </tr>\n",
       "    <tr>\n",
       "      <td>mean</td>\n",
       "      <td>1.032507e-17</td>\n",
       "      <td>5.417380e-16</td>\n",
       "      <td>1.878245e-15</td>\n",
       "      <td>2.366958e-15</td>\n",
       "      <td>7.653091e-16</td>\n",
       "      <td>-1.756390e-15</td>\n",
       "      <td>-5.754517e-16</td>\n",
       "      <td>5.401038e-16</td>\n",
       "      <td>8.868566e-16</td>\n",
       "      <td>1.184728e-15</td>\n",
       "      <td>-2.560658e-15</td>\n",
       "      <td>1.173830e-16</td>\n",
       "      <td>7.854134e-16</td>\n",
       "      <td>3.931355e-15</td>\n",
       "      <td>5.892532e-16</td>\n",
       "      <td>-6.298226e-16</td>\n",
       "    </tr>\n",
       "    <tr>\n",
       "      <td>std</td>\n",
       "      <td>1.000010e+00</td>\n",
       "      <td>1.000010e+00</td>\n",
       "      <td>1.000010e+00</td>\n",
       "      <td>1.000010e+00</td>\n",
       "      <td>1.000010e+00</td>\n",
       "      <td>1.000010e+00</td>\n",
       "      <td>1.000010e+00</td>\n",
       "      <td>1.000010e+00</td>\n",
       "      <td>1.000010e+00</td>\n",
       "      <td>1.000010e+00</td>\n",
       "      <td>1.000010e+00</td>\n",
       "      <td>1.000010e+00</td>\n",
       "      <td>1.000010e+00</td>\n",
       "      <td>1.000010e+00</td>\n",
       "      <td>1.000010e+00</td>\n",
       "      <td>1.000010e+00</td>\n",
       "    </tr>\n",
       "    <tr>\n",
       "      <td>min</td>\n",
       "      <td>-7.563165e-01</td>\n",
       "      <td>-7.778707e-01</td>\n",
       "      <td>-3.735962e-01</td>\n",
       "      <td>-5.793710e-01</td>\n",
       "      <td>-5.358860e-01</td>\n",
       "      <td>-1.938841e-01</td>\n",
       "      <td>-1.963579e-01</td>\n",
       "      <td>-1.958423e-01</td>\n",
       "      <td>-1.972145e-01</td>\n",
       "      <td>-2.797137e-01</td>\n",
       "      <td>-3.508129e-01</td>\n",
       "      <td>-8.991031e-01</td>\n",
       "      <td>-1.008116e+00</td>\n",
       "      <td>-4.445612e-01</td>\n",
       "      <td>-4.450316e-01</td>\n",
       "      <td>-4.455355e-01</td>\n",
       "    </tr>\n",
       "    <tr>\n",
       "      <td>25%</td>\n",
       "      <td>-5.194772e-01</td>\n",
       "      <td>-7.778707e-01</td>\n",
       "      <td>-3.735962e-01</td>\n",
       "      <td>-5.793710e-01</td>\n",
       "      <td>-5.358860e-01</td>\n",
       "      <td>-1.938841e-01</td>\n",
       "      <td>-1.963579e-01</td>\n",
       "      <td>-1.958423e-01</td>\n",
       "      <td>-1.972145e-01</td>\n",
       "      <td>-2.797137e-01</td>\n",
       "      <td>-3.508129e-01</td>\n",
       "      <td>-8.991031e-01</td>\n",
       "      <td>-1.008116e+00</td>\n",
       "      <td>-4.445612e-01</td>\n",
       "      <td>-4.450316e-01</td>\n",
       "      <td>-4.455355e-01</td>\n",
       "    </tr>\n",
       "    <tr>\n",
       "      <td>50%</td>\n",
       "      <td>-2.876771e-01</td>\n",
       "      <td>-7.778707e-01</td>\n",
       "      <td>-3.735962e-01</td>\n",
       "      <td>-5.793710e-01</td>\n",
       "      <td>-5.358860e-01</td>\n",
       "      <td>-1.938841e-01</td>\n",
       "      <td>-1.963579e-01</td>\n",
       "      <td>-1.958423e-01</td>\n",
       "      <td>-1.972145e-01</td>\n",
       "      <td>-2.797137e-01</td>\n",
       "      <td>-3.508129e-01</td>\n",
       "      <td>-8.991031e-01</td>\n",
       "      <td>9.919491e-01</td>\n",
       "      <td>-4.445612e-01</td>\n",
       "      <td>-4.450316e-01</td>\n",
       "      <td>-4.455355e-01</td>\n",
       "    </tr>\n",
       "    <tr>\n",
       "      <td>75%</td>\n",
       "      <td>1.305710e-01</td>\n",
       "      <td>1.285561e+00</td>\n",
       "      <td>-3.735962e-01</td>\n",
       "      <td>1.726010e+00</td>\n",
       "      <td>-5.358860e-01</td>\n",
       "      <td>-1.938841e-01</td>\n",
       "      <td>-1.963579e-01</td>\n",
       "      <td>-1.958423e-01</td>\n",
       "      <td>-1.972145e-01</td>\n",
       "      <td>-2.797137e-01</td>\n",
       "      <td>-3.508129e-01</td>\n",
       "      <td>1.112219e+00</td>\n",
       "      <td>9.919491e-01</td>\n",
       "      <td>-4.445612e-01</td>\n",
       "      <td>-4.450316e-01</td>\n",
       "      <td>-4.455355e-01</td>\n",
       "    </tr>\n",
       "    <tr>\n",
       "      <td>max</td>\n",
       "      <td>1.871489e+01</td>\n",
       "      <td>1.285561e+00</td>\n",
       "      <td>2.676687e+00</td>\n",
       "      <td>1.726010e+00</td>\n",
       "      <td>1.866068e+00</td>\n",
       "      <td>5.157719e+00</td>\n",
       "      <td>5.092743e+00</td>\n",
       "      <td>5.106149e+00</td>\n",
       "      <td>5.070620e+00</td>\n",
       "      <td>3.575084e+00</td>\n",
       "      <td>2.850522e+00</td>\n",
       "      <td>1.112219e+00</td>\n",
       "      <td>9.919491e-01</td>\n",
       "      <td>2.249409e+00</td>\n",
       "      <td>2.247031e+00</td>\n",
       "      <td>2.244490e+00</td>\n",
       "    </tr>\n",
       "  </tbody>\n",
       "</table>\n",
       "</div>"
      ],
      "text/plain": [
       "       session_time_prior_month_seconds  industry_marketing agency  \\\n",
       "count                      4.800000e+04               4.800000e+04   \n",
       "mean                       1.032507e-17               5.417380e-16   \n",
       "std                        1.000010e+00               1.000010e+00   \n",
       "min                       -7.563165e-01              -7.778707e-01   \n",
       "25%                       -5.194772e-01              -7.778707e-01   \n",
       "50%                       -2.876771e-01              -7.778707e-01   \n",
       "75%                        1.305710e-01               1.285561e+00   \n",
       "max                        1.871489e+01               1.285561e+00   \n",
       "\n",
       "       industry_software  industry_unknown  geography_Canada  \\\n",
       "count       4.800000e+04      4.800000e+04      4.800000e+04   \n",
       "mean        1.878245e-15      2.366958e-15      7.653091e-16   \n",
       "std         1.000010e+00      1.000010e+00      1.000010e+00   \n",
       "min        -3.735962e-01     -5.793710e-01     -5.358860e-01   \n",
       "25%        -3.735962e-01     -5.793710e-01     -5.358860e-01   \n",
       "50%        -3.735962e-01     -5.793710e-01     -5.358860e-01   \n",
       "75%        -3.735962e-01      1.726010e+00     -5.358860e-01   \n",
       "max         2.676687e+00      1.726010e+00      1.866068e+00   \n",
       "\n",
       "       geography_France  geography_Greece  geography_India  \\\n",
       "count      4.800000e+04      4.800000e+04     4.800000e+04   \n",
       "mean      -1.756390e-15     -5.754517e-16     5.401038e-16   \n",
       "std        1.000010e+00      1.000010e+00     1.000010e+00   \n",
       "min       -1.938841e-01     -1.963579e-01    -1.958423e-01   \n",
       "25%       -1.938841e-01     -1.963579e-01    -1.958423e-01   \n",
       "50%       -1.938841e-01     -1.963579e-01    -1.958423e-01   \n",
       "75%       -1.938841e-01     -1.963579e-01    -1.958423e-01   \n",
       "max        5.157719e+00      5.092743e+00     5.106149e+00   \n",
       "\n",
       "       geography_Pakistan  geography_Spain  geography_UK  geography_US  \\\n",
       "count        4.800000e+04     4.800000e+04  4.800000e+04  4.800000e+04   \n",
       "mean         8.868566e-16     1.184728e-15 -2.560658e-15  1.173830e-16   \n",
       "std          1.000010e+00     1.000010e+00  1.000010e+00  1.000010e+00   \n",
       "min         -1.972145e-01    -2.797137e-01 -3.508129e-01 -8.991031e-01   \n",
       "25%         -1.972145e-01    -2.797137e-01 -3.508129e-01 -8.991031e-01   \n",
       "50%         -1.972145e-01    -2.797137e-01 -3.508129e-01 -8.991031e-01   \n",
       "75%         -1.972145e-01    -2.797137e-01 -3.508129e-01  1.112219e+00   \n",
       "max          5.070620e+00     3.575084e+00  2.850522e+00  1.112219e+00   \n",
       "\n",
       "       most_common_browser_Chrome  most_common_browser_Firefox  \\\n",
       "count                4.800000e+04                 4.800000e+04   \n",
       "mean                 7.854134e-16                 3.931355e-15   \n",
       "std                  1.000010e+00                 1.000010e+00   \n",
       "min                 -1.008116e+00                -4.445612e-01   \n",
       "25%                 -1.008116e+00                -4.445612e-01   \n",
       "50%                  9.919491e-01                -4.445612e-01   \n",
       "75%                  9.919491e-01                -4.445612e-01   \n",
       "max                  9.919491e-01                 2.249409e+00   \n",
       "\n",
       "       most_common_browser_IE  most_common_browser_Safari  \n",
       "count            4.800000e+04                4.800000e+04  \n",
       "mean             5.892532e-16               -6.298226e-16  \n",
       "std              1.000010e+00                1.000010e+00  \n",
       "min             -4.450316e-01               -4.455355e-01  \n",
       "25%             -4.450316e-01               -4.455355e-01  \n",
       "50%             -4.450316e-01               -4.455355e-01  \n",
       "75%             -4.450316e-01               -4.455355e-01  \n",
       "max              2.247031e+00                2.244490e+00  "
      ]
     },
     "execution_count": 455,
     "metadata": {},
     "output_type": "execute_result"
    }
   ],
   "source": [
    "pd.DataFrame(test_scaled,columns=test_process_dum.columns).describe()"
   ]
  },
  {
   "cell_type": "code",
   "execution_count": 456,
   "metadata": {},
   "outputs": [
    {
     "data": {
      "text/html": [
       "<div>\n",
       "<style scoped>\n",
       "    .dataframe tbody tr th:only-of-type {\n",
       "        vertical-align: middle;\n",
       "    }\n",
       "\n",
       "    .dataframe tbody tr th {\n",
       "        vertical-align: top;\n",
       "    }\n",
       "\n",
       "    .dataframe thead th {\n",
       "        text-align: right;\n",
       "    }\n",
       "</style>\n",
       "<table border=\"1\" class=\"dataframe\">\n",
       "  <thead>\n",
       "    <tr style=\"text-align: right;\">\n",
       "      <th></th>\n",
       "      <th>session_time_prior_month_seconds</th>\n",
       "      <th>industry_marketing agency</th>\n",
       "      <th>industry_software</th>\n",
       "      <th>industry_unknown</th>\n",
       "      <th>geography_Canada</th>\n",
       "      <th>geography_France</th>\n",
       "      <th>geography_Greece</th>\n",
       "      <th>geography_India</th>\n",
       "      <th>geography_Pakistan</th>\n",
       "      <th>geography_Spain</th>\n",
       "      <th>geography_UK</th>\n",
       "      <th>geography_US</th>\n",
       "      <th>most_common_browser_Chrome</th>\n",
       "      <th>most_common_browser_Firefox</th>\n",
       "      <th>most_common_browser_IE</th>\n",
       "      <th>most_common_browser_Safari</th>\n",
       "    </tr>\n",
       "  </thead>\n",
       "  <tbody>\n",
       "    <tr>\n",
       "      <td>count</td>\n",
       "      <td>9600.000000</td>\n",
       "      <td>9600.000000</td>\n",
       "      <td>9600.000000</td>\n",
       "      <td>9600.000000</td>\n",
       "      <td>9600.000000</td>\n",
       "      <td>9600.000000</td>\n",
       "      <td>9600.000000</td>\n",
       "      <td>9600.000000</td>\n",
       "      <td>9600.000000</td>\n",
       "      <td>9600.000000</td>\n",
       "      <td>9600.000000</td>\n",
       "      <td>9600.000000</td>\n",
       "      <td>9600.000000</td>\n",
       "      <td>9600.000000</td>\n",
       "      <td>9600.000000</td>\n",
       "      <td>9600.000000</td>\n",
       "    </tr>\n",
       "    <tr>\n",
       "      <td>mean</td>\n",
       "      <td>0.003090</td>\n",
       "      <td>-0.003658</td>\n",
       "      <td>0.008925</td>\n",
       "      <td>-0.001742</td>\n",
       "      <td>0.008110</td>\n",
       "      <td>-0.005714</td>\n",
       "      <td>0.002447</td>\n",
       "      <td>0.000848</td>\n",
       "      <td>-0.004073</td>\n",
       "      <td>0.003506</td>\n",
       "      <td>-0.010566</td>\n",
       "      <td>0.000783</td>\n",
       "      <td>0.003250</td>\n",
       "      <td>0.001509</td>\n",
       "      <td>-0.006002</td>\n",
       "      <td>0.000112</td>\n",
       "    </tr>\n",
       "    <tr>\n",
       "      <td>std</td>\n",
       "      <td>1.000353</td>\n",
       "      <td>0.999100</td>\n",
       "      <td>1.009917</td>\n",
       "      <td>0.999021</td>\n",
       "      <td>1.005731</td>\n",
       "      <td>0.985990</td>\n",
       "      <td>1.006086</td>\n",
       "      <td>1.002033</td>\n",
       "      <td>0.990345</td>\n",
       "      <td>1.005571</td>\n",
       "      <td>0.986916</td>\n",
       "      <td>1.000287</td>\n",
       "      <td>1.000034</td>\n",
       "      <td>1.001398</td>\n",
       "      <td>0.994609</td>\n",
       "      <td>1.000153</td>\n",
       "    </tr>\n",
       "    <tr>\n",
       "      <td>min</td>\n",
       "      <td>-0.766223</td>\n",
       "      <td>-0.774597</td>\n",
       "      <td>-0.382701</td>\n",
       "      <td>-0.570807</td>\n",
       "      <td>-0.518039</td>\n",
       "      <td>-0.196929</td>\n",
       "      <td>-0.194404</td>\n",
       "      <td>-0.204788</td>\n",
       "      <td>-0.202346</td>\n",
       "      <td>-0.289846</td>\n",
       "      <td>-0.355291</td>\n",
       "      <td>-0.743637</td>\n",
       "      <td>-1.003841</td>\n",
       "      <td>-0.447482</td>\n",
       "      <td>-0.444931</td>\n",
       "      <td>-0.446140</td>\n",
       "    </tr>\n",
       "    <tr>\n",
       "      <td>25%</td>\n",
       "      <td>-0.525680</td>\n",
       "      <td>-0.774597</td>\n",
       "      <td>-0.382701</td>\n",
       "      <td>-0.570807</td>\n",
       "      <td>-0.518039</td>\n",
       "      <td>-0.196929</td>\n",
       "      <td>-0.194404</td>\n",
       "      <td>-0.204788</td>\n",
       "      <td>-0.202346</td>\n",
       "      <td>-0.289846</td>\n",
       "      <td>-0.355291</td>\n",
       "      <td>-0.743637</td>\n",
       "      <td>-1.003841</td>\n",
       "      <td>-0.447482</td>\n",
       "      <td>-0.444931</td>\n",
       "      <td>-0.446140</td>\n",
       "    </tr>\n",
       "    <tr>\n",
       "      <td>50%</td>\n",
       "      <td>-0.331897</td>\n",
       "      <td>-0.774597</td>\n",
       "      <td>-0.382701</td>\n",
       "      <td>-0.570807</td>\n",
       "      <td>-0.518039</td>\n",
       "      <td>-0.196929</td>\n",
       "      <td>-0.194404</td>\n",
       "      <td>-0.204788</td>\n",
       "      <td>-0.202346</td>\n",
       "      <td>-0.289846</td>\n",
       "      <td>-0.355291</td>\n",
       "      <td>-0.743637</td>\n",
       "      <td>0.996174</td>\n",
       "      <td>-0.447482</td>\n",
       "      <td>-0.444931</td>\n",
       "      <td>-0.446140</td>\n",
       "    </tr>\n",
       "    <tr>\n",
       "      <td>75%</td>\n",
       "      <td>0.139679</td>\n",
       "      <td>1.290994</td>\n",
       "      <td>-0.382701</td>\n",
       "      <td>-0.570807</td>\n",
       "      <td>-0.518039</td>\n",
       "      <td>-0.196929</td>\n",
       "      <td>-0.194404</td>\n",
       "      <td>-0.204788</td>\n",
       "      <td>-0.202346</td>\n",
       "      <td>-0.289846</td>\n",
       "      <td>-0.355291</td>\n",
       "      <td>1.344742</td>\n",
       "      <td>0.996174</td>\n",
       "      <td>-0.447482</td>\n",
       "      <td>-0.444931</td>\n",
       "      <td>-0.446140</td>\n",
       "    </tr>\n",
       "    <tr>\n",
       "      <td>max</td>\n",
       "      <td>13.342224</td>\n",
       "      <td>1.290994</td>\n",
       "      <td>2.613004</td>\n",
       "      <td>1.751906</td>\n",
       "      <td>1.930355</td>\n",
       "      <td>5.077964</td>\n",
       "      <td>5.143924</td>\n",
       "      <td>4.883106</td>\n",
       "      <td>4.942037</td>\n",
       "      <td>3.450105</td>\n",
       "      <td>2.814593</td>\n",
       "      <td>1.344742</td>\n",
       "      <td>0.996174</td>\n",
       "      <td>2.234727</td>\n",
       "      <td>2.247540</td>\n",
       "      <td>2.241450</td>\n",
       "    </tr>\n",
       "  </tbody>\n",
       "</table>\n",
       "</div>"
      ],
      "text/plain": [
       "       session_time_prior_month_seconds  industry_marketing agency  \\\n",
       "count                       9600.000000                9600.000000   \n",
       "mean                           0.003090                  -0.003658   \n",
       "std                            1.000353                   0.999100   \n",
       "min                           -0.766223                  -0.774597   \n",
       "25%                           -0.525680                  -0.774597   \n",
       "50%                           -0.331897                  -0.774597   \n",
       "75%                            0.139679                   1.290994   \n",
       "max                           13.342224                   1.290994   \n",
       "\n",
       "       industry_software  industry_unknown  geography_Canada  \\\n",
       "count        9600.000000       9600.000000       9600.000000   \n",
       "mean            0.008925         -0.001742          0.008110   \n",
       "std             1.009917          0.999021          1.005731   \n",
       "min            -0.382701         -0.570807         -0.518039   \n",
       "25%            -0.382701         -0.570807         -0.518039   \n",
       "50%            -0.382701         -0.570807         -0.518039   \n",
       "75%            -0.382701         -0.570807         -0.518039   \n",
       "max             2.613004          1.751906          1.930355   \n",
       "\n",
       "       geography_France  geography_Greece  geography_India  \\\n",
       "count       9600.000000       9600.000000      9600.000000   \n",
       "mean          -0.005714          0.002447         0.000848   \n",
       "std            0.985990          1.006086         1.002033   \n",
       "min           -0.196929         -0.194404        -0.204788   \n",
       "25%           -0.196929         -0.194404        -0.204788   \n",
       "50%           -0.196929         -0.194404        -0.204788   \n",
       "75%           -0.196929         -0.194404        -0.204788   \n",
       "max            5.077964          5.143924         4.883106   \n",
       "\n",
       "       geography_Pakistan  geography_Spain  geography_UK  geography_US  \\\n",
       "count         9600.000000      9600.000000   9600.000000   9600.000000   \n",
       "mean            -0.004073         0.003506     -0.010566      0.000783   \n",
       "std              0.990345         1.005571      0.986916      1.000287   \n",
       "min             -0.202346        -0.289846     -0.355291     -0.743637   \n",
       "25%             -0.202346        -0.289846     -0.355291     -0.743637   \n",
       "50%             -0.202346        -0.289846     -0.355291     -0.743637   \n",
       "75%             -0.202346        -0.289846     -0.355291      1.344742   \n",
       "max              4.942037         3.450105      2.814593      1.344742   \n",
       "\n",
       "       most_common_browser_Chrome  most_common_browser_Firefox  \\\n",
       "count                 9600.000000                  9600.000000   \n",
       "mean                     0.003250                     0.001509   \n",
       "std                      1.000034                     1.001398   \n",
       "min                     -1.003841                    -0.447482   \n",
       "25%                     -1.003841                    -0.447482   \n",
       "50%                      0.996174                    -0.447482   \n",
       "75%                      0.996174                    -0.447482   \n",
       "max                      0.996174                     2.234727   \n",
       "\n",
       "       most_common_browser_IE  most_common_browser_Safari  \n",
       "count             9600.000000                 9600.000000  \n",
       "mean                -0.006002                    0.000112  \n",
       "std                  0.994609                    1.000153  \n",
       "min                 -0.444931                   -0.446140  \n",
       "25%                 -0.444931                   -0.446140  \n",
       "50%                 -0.444931                   -0.446140  \n",
       "75%                 -0.444931                   -0.446140  \n",
       "max                  2.247540                    2.241450  "
      ]
     },
     "execution_count": 456,
     "metadata": {},
     "output_type": "execute_result"
    }
   ],
   "source": [
    "X_train.describe()"
   ]
  },
  {
   "cell_type": "code",
   "execution_count": 457,
   "metadata": {},
   "outputs": [
    {
     "data": {
      "text/plain": [
       "array([ 26.10510953, 105.38372955,  88.09868969, ...,  95.89296001,\n",
       "       124.65235856, 104.05706409])"
      ]
     },
     "execution_count": 457,
     "metadata": {},
     "output_type": "execute_result"
    }
   ],
   "source": [
    "test_result"
   ]
  },
  {
   "cell_type": "code",
   "execution_count": 458,
   "metadata": {},
   "outputs": [
    {
     "data": {
      "text/plain": [
       "0         25.607595\n",
       "1        115.579494\n",
       "2         89.462246\n",
       "3         33.836123\n",
       "4        129.394415\n",
       "            ...    \n",
       "47995    103.682246\n",
       "47996    124.759101\n",
       "47997    105.044942\n",
       "47998    117.116123\n",
       "47999    108.509179\n",
       "Name: prior_month_paid, Length: 48000, dtype: float64"
      ]
     },
     "execution_count": 458,
     "metadata": {},
     "output_type": "execute_result"
    }
   ],
   "source": [
    "y_test"
   ]
  },
  {
   "cell_type": "markdown",
   "metadata": {},
   "source": [
    "#### we have a r2 score really close to 1, meaning we have a good fit."
   ]
  },
  {
   "cell_type": "code",
   "execution_count": 460,
   "metadata": {},
   "outputs": [
    {
     "data": {
      "text/plain": [
       "0.9635442295995793"
      ]
     },
     "execution_count": 460,
     "metadata": {},
     "output_type": "execute_result"
    }
   ],
   "source": [
    "r2_score(test_result,y_test)"
   ]
  },
  {
   "cell_type": "markdown",
   "metadata": {},
   "source": [
    "### Question 5 What would your recommended next steps for the business be?"
   ]
  },
  {
   "cell_type": "markdown",
   "metadata": {},
   "source": [
    "1. unknown industry paid less than other industries, probably worth investigation to indentify the industry to bring in more revenue.<br> \n",
    "2. Gather more data for more accurate models. <br> \n",
    "3. Focusing marketing effort on geography features. As data shows that they have a higher importance than other features.\n",
    "4. Look into why browsers are not affecting the overal customer paid amount. "
   ]
  },
  {
   "cell_type": "code",
   "execution_count": null,
   "metadata": {},
   "outputs": [],
   "source": []
  }
 ],
 "metadata": {
  "kernelspec": {
   "display_name": "Python 3",
   "language": "python",
   "name": "python3"
  },
  "language_info": {
   "codemirror_mode": {
    "name": "ipython",
    "version": 3
   },
   "file_extension": ".py",
   "mimetype": "text/x-python",
   "name": "python",
   "nbconvert_exporter": "python",
   "pygments_lexer": "ipython3",
   "version": "3.7.4"
  }
 },
 "nbformat": 4,
 "nbformat_minor": 2
}
